{
 "cells": [
  {
   "cell_type": "markdown",
   "id": "eb50e2ce",
   "metadata": {},
   "source": [
    "**<font color = black size=6>实验八：支持向量机</font>**"
   ]
  },
  {
   "cell_type": "code",
   "execution_count": 19,
   "id": "95f5ebed",
   "metadata": {},
   "outputs": [],
   "source": [
    "import numpy as np\n",
    "import pandas as pd\n",
    "import matplotlib.pyplot as plt\n",
    "import math\n",
    "import cvxopt\n",
    "from cvxopt import matrix\n",
    "from cvxopt import solvers"
   ]
  },
  {
   "cell_type": "markdown",
   "id": "714b16e8",
   "metadata": {},
   "source": [
    "**<font color = blue size=4>第一部分:函数介绍</font>**"
   ]
  },
  {
   "cell_type": "markdown",
   "id": "d3531f8a",
   "metadata": {},
   "source": [
    "二次规划问题是形式如下的一类最优化问题：\n",
    "$$\n",
    "\\begin{align}\n",
    "\\min_x \\quad  &\\frac{1}{2}x^TPx+q^Tx \\\\\n",
    "s.t. \\quad  &Gx\\leq h \\\\\n",
    "      &Ax=b\n",
    "\\end{align}\n",
    "$$\n",
    "对于这一类问题可以使用[cvxopt](https://cvxopt.org/userguide/coneprog.html#quadratic-programming)库的solvers.qp()函数进行求解。"
   ]
  },
  {
   "cell_type": "markdown",
   "id": "20b0f664",
   "metadata": {},
   "source": [
    "以下是一个例子（参考[Solving a quadratic program](https://cvxopt.org/examples/tutorial/qp.html)）:\n",
    "$$\n",
    "\\begin{align}\n",
    "\\min_x \\quad  &2x_1^2+x_2^2+x_1x_2+x_1+x_2 \\\\\n",
    "s.t. \\quad  &x_1\\geq 0 \\\\\n",
    "      &x_2\\geq 0 \\\\\n",
    "      &x_1+x_2=1\n",
    "\\end{align}\n",
    "$$\n",
    "为了使用solvers.qp()函数，我们需要知道在该二次规划问题中的$P,q,G,h,A,b$矩阵分别是什么。\n",
    "在该优化问题中，\n",
    "\n",
    "* $P:=\\begin{bmatrix}\n",
    "    4 & 1 \\\\ 1 & 2\n",
    "   \\end{bmatrix}$,\n",
    "* $q:=\\begin{bmatrix}\n",
    "    1 \\\\ 1\n",
    "   \\end{bmatrix}$,\n",
    "* $G:=\\begin{bmatrix}\n",
    "    -1 & 0 \\\\ 0 & -1\n",
    "   \\end{bmatrix}$,\n",
    "* $h:=\\begin{bmatrix}\n",
    "    0 \\\\ 0\n",
    "   \\end{bmatrix}$,\n",
    "* $A:=\\begin{bmatrix}\n",
    "    1 & 1\n",
    "   \\end{bmatrix}$,\n",
    "* $b:=\\begin{bmatrix}\n",
    "    1\n",
    "   \\end{bmatrix}$,\n",
    "   \n",
    "把这些参数送入solvers.qp()函数中即可求出解。"
   ]
  },
  {
   "cell_type": "code",
   "execution_count": 6,
   "id": "9e5b5531",
   "metadata": {},
   "outputs": [
    {
     "name": "stdout",
     "output_type": "stream",
     "text": [
      "     pcost       dcost       gap    pres   dres\n",
      " 0:  1.8889e+00  7.7778e-01  1e+00  2e-16  2e+00\n",
      " 1:  1.8769e+00  1.8320e+00  4e-02  2e-16  6e-02\n",
      " 2:  1.8750e+00  1.8739e+00  1e-03  2e-16  5e-04\n",
      " 3:  1.8750e+00  1.8750e+00  1e-05  1e-16  5e-06\n",
      " 4:  1.8750e+00  1.8750e+00  1e-07  1e-16  5e-08\n",
      "Optimal solution found.\n",
      "[ 2.50e-01]\n",
      "[ 7.50e-01]\n",
      "\n"
     ]
    },
    {
     "data": {
      "text/plain": [
       "{'x': <2x1 matrix, tc='d'>,\n",
       " 'y': <1x1 matrix, tc='d'>,\n",
       " 's': <2x1 matrix, tc='d'>,\n",
       " 'z': <2x1 matrix, tc='d'>,\n",
       " 'status': 'optimal',\n",
       " 'gap': 1.052702838051502e-07,\n",
       " 'relative gap': 5.614415451491214e-08,\n",
       " 'primal objective': 1.875000000000018,\n",
       " 'dual objective': 1.8749998947297342,\n",
       " 'primal infeasibility': 1.1102230246251565e-16,\n",
       " 'dual infeasibility': 5.3147592893303475e-08,\n",
       " 'primal slack': 0.2500000952702475,\n",
       " 'dual slack': 1.0000000000000038e-08,\n",
       " 'iterations': 4}"
      ]
     },
     "execution_count": 6,
     "metadata": {},
     "output_type": "execute_result"
    }
   ],
   "source": [
    "# Tips1: cvxopt库中的matrix只接受double类型的数据\n",
    "# Tips2: matrix使用列表作为参数创建矩阵和numpy.array使用列表作为参数创建矩阵是不同的\n",
    "# print(matrix([[1.0, 1.0]]))#里面是列向量\n",
    "# print(np.array([[1.0, 1.0]]))\n",
    "# print(matrix(np.array([[1.0, 1.0]])))\n",
    "Q = 2*matrix([ [2, .5], [.5, 1] ])\n",
    "p = matrix([1.0,1.0])\n",
    "G = matrix([[-1.0,0.0],[0.0,-1.0]])\n",
    "h = matrix([0.0,0.0])\n",
    "A = matrix([1.0, 1.0], (1,2))\n",
    "b = matrix(1.0)\n",
    "sol=solvers.qp(Q, p, G, h, A, b)\n",
    "print(sol['x'])\n",
    "sol"
   ]
  },
  {
   "cell_type": "markdown",
   "id": "2384abb1",
   "metadata": {},
   "source": [
    "**<font color = blue size=4>第二部分:实验任务</font>**"
   ]
  },
  {
   "cell_type": "markdown",
   "id": "68091bb5",
   "metadata": {},
   "source": [
    "1.线性可分支持向量机与硬间隔最大化"
   ]
  },
  {
   "cell_type": "markdown",
   "id": "ad91cf52",
   "metadata": {},
   "source": [
    "<span style=\"color:purple\">1) 读入数据集'dataset1.csv',把数据类型都转换成np.double类型，并画出数据集的散点图，给正样本（y为+1）和负样本（y为-1）分别标上不同的颜色。</span>"
   ]
  },
  {
   "cell_type": "code",
   "execution_count": 2,
   "id": "1b25ddd4",
   "metadata": {},
   "outputs": [
    {
     "data": {
      "image/png": "[encoded data removed]",
      "text/plain": [
       "<Figure size 432x288 with 1 Axes>"
      ]
     },
     "metadata": {
      "needs_background": "light"
     },
     "output_type": "display_data"
    }
   ],
   "source": [
    "# ---- Your code here ----\n",
    "d1frame=pd.read_csv('dataset1.csv')\n",
    "d1=np.double(d1frame)\n",
    "\n",
    "label=d1[:,2]\n",
    "plt.scatter(d1[label==1,0],d1[label==1,1],c='red',label='positive')\n",
    "plt.scatter(d1[label==-1,0],d1[label==-1,1],c='blue',label='negative')\n",
    "plt.legend()\n",
    "plt.show()\n",
    "\n"
   ]
  },
  {
   "cell_type": "markdown",
   "id": "bbcf4613",
   "metadata": {},
   "source": [
    "<span style=\"color:purple\">2) 求解如下对偶问题（参考课件）：</span>\n",
    "$$\n",
    "\\begin{align}\n",
    "\\min_\\lambda \\quad  &\\frac{1}{2}\\sum_{i=1}^m\\sum_{j=1}^m\\lambda_i\\lambda_jy_iy_j\\pmb{x}_i^T\\pmb{x}_j-\\sum_{i=1}^m\\lambda_i \\\\\n",
    "s.t. \\quad  &\\sum_{i=1}^m\\lambda_iy_i=0 \\\\\n",
    "      &\\pmb{\\lambda}\\geq \\pmb{0}\n",
    "\\end{align}\n",
    "$$\n",
    "\n",
    "这个优化问题是一个二次规划问题。\n",
    "* $P是一个m\\times m的矩阵，其中P_{ij}=y_iy_j\\pmb{x}_i^T\\pmb{x}_j$,\n",
    "* $q是一个m\\times 1的所有值都为-1的列向量，即q:=\\begin{bmatrix}\n",
    "    -1 & -1 & \\cdots & -1\n",
    "   \\end{bmatrix}^T$,\n",
    "* $G:=\\begin{bmatrix}\n",
    "    -1 & 0 & \\cdots & 0 \\\\\n",
    "    0 & -1 & \\cdots & 0 \\\\\n",
    "   \\vdots & \\vdots & \\ddots &0 \\\\\n",
    "   0 & 0 & 0 & -1\n",
    "   \\end{bmatrix}_{m\\times m}=-\\pmb{I},\\pmb{I}为单位矩阵,$\n",
    "* $h是一个m\\times 1的零向量,即h:=\\begin{bmatrix}\n",
    "    0 & 0 & \\cdots & 0\n",
    "   \\end{bmatrix}^T$,\n",
    "* $A:=\\begin{bmatrix}\n",
    "    y_1 & y_2 & \\cdots & y_m\n",
    "   \\end{bmatrix}^T$,\n",
    "* $b:=\\begin{bmatrix}\n",
    "    0\n",
    "   \\end{bmatrix},一个标量$\n",
    "   \n",
    "<span style=\"color:purple\">把上述参数送入求解器solvers.qp()中即可得到最优解$\\lambda^*$</span>。 \n",
    " \n",
    "附：$P$矩阵的一个计算方法：\n",
    "设$X=\\begin{bmatrix}\n",
    "    x_{11} & x_{12} \\\\\n",
    "    x_{21} & x_{22} \\\\\n",
    "    \\vdots & \\vdots \\\\\n",
    "    x_{m1} & x_{m2}\n",
    "   \\end{bmatrix}$,\n",
    "   $Y=\\begin{bmatrix}\n",
    "    y_{1} \\\\\n",
    "    y_{2} \\\\\n",
    "    \\vdots \\\\\n",
    "    y_{m}\n",
    "   \\end{bmatrix}$,\n",
    "   \n",
    "计算$X'=\\begin{bmatrix}\n",
    "    x_{11}y_1 & x_{12}y_1 \\\\\n",
    "    x_{21}y_2 & x_{22}y_2 \\\\\n",
    "    \\vdots & \\vdots \\\\\n",
    "    x_{m1}y_m & x_{m2}y_m\n",
    "   \\end{bmatrix}=X*Y(注意这里是星乘)$\n",
    "   \n",
    "则$P=X'X'^T$。"
   ]
  },
  {
   "cell_type": "code",
   "execution_count": 3,
   "id": "1537fe6b",
   "metadata": {},
   "outputs": [
    {
     "name": "stdout",
     "output_type": "stream",
     "text": [
      "     pcost       dcost       gap    pres   dres\n",
      " 0: -5.2553e+00 -9.0147e+00  1e+02  1e+01  2e+00\n",
      " 1: -4.9265e+00 -1.9551e+00  2e+01  2e+00  3e-01\n",
      " 2: -1.5759e-01 -3.1831e-01  7e-01  4e-02  7e-03\n",
      " 3: -1.3147e-01 -1.9706e-01  7e-02  4e-17  9e-16\n",
      " 4: -1.7378e-01 -1.8099e-01  7e-03  5e-17  1e-15\n",
      " 5: -1.7979e-01 -1.8010e-01  3e-04  3e-17  9e-16\n",
      " 6: -1.8003e-01 -1.8003e-01  3e-06  2e-17  7e-16\n",
      " 7: -1.8003e-01 -1.8003e-01  3e-08  4e-17  8e-16\n",
      "Optimal solution found.\n"
     ]
    }
   ],
   "source": [
    "# ---- Your code here ----\n",
    "#如果求解报错可以尝试在solvers.qp()中添加参数kktsolver='ldl'\n",
    "m=len(d1)\n",
    "X=np.array(d1[:,0:2])\n",
    "Y=np.array(d1[:,2:3])\n",
    "Xt=X*Y\n",
    "P=Xt.dot(Xt.T)\n",
    "q=-np.ones(m)\n",
    "G=-np.identity(m)\n",
    "h=np.zeros(m)\n",
    "b=matrix(0.)\n",
    "sol=solvers.qp(matrix(P),matrix(q),matrix(G),matrix(h),matrix(Y.reshape(1,m)),b)\n"
   ]
  },
  {
   "cell_type": "markdown",
   "id": "825c6609",
   "metadata": {},
   "source": [
    "<span style=\"color:purple\">3) 求出$\\pmb{\\omega}^*=\\sum_{i=1}^m\\lambda_i^*y_i\\pmb{x}_i$和$b^*=y_j-\\pmb{\\omega}^{*T}\\pmb{x_j}$, 其中$j$为$\\lambda^*$中的一个正分量$\\lambda_j^*>0$的下标。注意：由于求解器求出来的是一个近似解，所以$\\lambda^*$中很多实际上为0的分量会略大于0，这时候可以设置一个阈值把非常靠近0的那些分量筛去，再从剩下的分量中选取一个正分量来计算$b^*$,或者也可以直接取$\\lambda^*$中最大的分量来计算$b^*$。</span>"
   ]
  },
  {
   "cell_type": "code",
   "execution_count": 4,
   "id": "388c3510",
   "metadata": {},
   "outputs": [
    {
     "name": "stdout",
     "output_type": "stream",
     "text": [
      "yes\n"
     ]
    }
   ],
   "source": [
    "# ---- Your code here ----\n",
    "w=np.zeros(2)\n",
    "bs=0\n",
    "lamb=np.array(sol['x'])\n",
    "for i in range(m):\n",
    "    w+=lamb[i]*Y[i]*X[i,:]\n",
    "for i in range(m):\n",
    "    if lamb[i]==max(lamb):\n",
    "        print('yes')\n",
    "        bs+=Y[i]-w.T.dot(X[i,:])\n"
   ]
  },
  {
   "cell_type": "markdown",
   "id": "ad94df88",
   "metadata": {},
   "source": [
    "<span style=\"color:purple\">4) 画出数据集的散点图，给正样本（y为+1）和负样本（y为-1）分别标上不同的颜色，再为支持向量（训练数据中$\\lambda_j^*>0$的对应的样本）标上不同的颜色，并画出决策边界$\\pmb{\\omega}^{*T}\\pmb{x}+b=0$和间隔边界$\\pmb{\\omega}^{*T}\\pmb{x}+b=1$与$\\pmb{\\omega}^{*T}\\pmb{x}+b=-1$。</span>"
   ]
  },
  {
   "cell_type": "code",
   "execution_count": 11,
   "id": "36428566",
   "metadata": {},
   "outputs": [
    {
     "data": {
      "image/png": "[encoded data removed]",
      "text/plain": [
       "<Figure size 432x288 with 1 Axes>"
      ]
     },
     "metadata": {
      "needs_background": "light"
     },
     "output_type": "display_data"
    }
   ],
   "source": [
    "# ---- Your code here ----\n",
    "label=d1[:,2]\n",
    "x1=t=np.arange(-4,8,2)\n",
    "plt.scatter(d1[label==1,0],d1[label==1,1],c='red',label='positive')\n",
    "plt.scatter(d1[label==-1,0],d1[label==-1,1],c='blue',label='negative')\n",
    "for i in range(m):\n",
    "    if lamb[i]>0.001:\n",
    "        plt.scatter(d1[i,0],d1[i,1],c='green')\n",
    "x2=-w[0]/w[1]*x1-bs/w[1]\n",
    "plt.plot(x1,x2)\n",
    "x2=-w[0]/w[1]*x1-(bs+1)/w[1]\n",
    "plt.plot(x1,x2)\n",
    "x2=-w[0]/w[1]*x1-(bs-1)/w[1]\n",
    "plt.plot(x1,x2)\n",
    "plt.legend()\n",
    "plt.show()\n",
    "\n"
   ]
  },
  {
   "cell_type": "markdown",
   "id": "f33d9ee3",
   "metadata": {},
   "source": [
    "2.线性支持向量机与软间隔最大化"
   ]
  },
  {
   "cell_type": "markdown",
   "id": "bdbeff31",
   "metadata": {},
   "source": [
    "<span style=\"color:purple\">1) 读入数据集'dataset2.csv',把数据类型都转换成np.double类型，并画出数据集的散点图，给正样本（y为+1）和负样本（y为-1）分别标上不同的颜色。</span>"
   ]
  },
  {
   "cell_type": "code",
   "execution_count": 12,
   "id": "5caeaadf",
   "metadata": {},
   "outputs": [
    {
     "data": {
      "image/png": "[encoded data removed]",
      "text/plain": [
       "<Figure size 432x288 with 1 Axes>"
      ]
     },
     "metadata": {
      "needs_background": "light"
     },
     "output_type": "display_data"
    }
   ],
   "source": [
    "# ---- Your code here ----\n",
    "\n",
    "d2frame=pd.read_csv('dataset2.csv')\n",
    "d2=np.double(d2frame)\n",
    "\n",
    "label2=d2[:,2]\n",
    "plt.scatter(d2[label2==1,0],d1[label2==1,1],c='red',label='positive')\n",
    "plt.scatter(d2[label2==-1,0],d1[label2==-1,1],c='blue',label='negative')\n",
    "plt.legend()\n",
    "plt.show()"
   ]
  },
  {
   "cell_type": "markdown",
   "id": "3d108a81",
   "metadata": {},
   "source": [
    "<span style=\"color:purple\">2) 选择一个参数C，求解如下对偶问题（参考课件）：</span>\n",
    "$$\n",
    "\\begin{align}\n",
    "\\min_\\lambda \\quad  &\\frac{1}{2}\\sum_{i=1}^m\\sum_{j=1}^m\\lambda_i\\lambda_jy_iy_j\\pmb{x}_i^T\\pmb{x}_j-\\sum_{i=1}^m\\lambda_i \\\\\n",
    "s.t. \\quad  &\\sum_{i=1}^m\\lambda_iy_i=0 \\\\\n",
    "      &\\pmb{0}\\leq \\pmb{\\lambda}\\leq C \n",
    "\\end{align}\n",
    "$$\n",
    "* $G:=\\begin{bmatrix}\n",
    "    -1 & 0 & \\cdots & 0 \\\\\n",
    "    0 & -1 & \\cdots & 0 \\\\\n",
    "   \\vdots & \\vdots & \\ddots &0 \\\\\n",
    "   0 & 0 & 0 & -1 \\\\\n",
    "   1 & 0 & \\cdots & 0 \\\\\n",
    "    0 & 1 & \\cdots & 0 \\\\\n",
    "   \\vdots & \\vdots & \\ddots &0 \\\\\n",
    "   0 & 0 & 0 & 1\n",
    "   \\end{bmatrix}_{2m\\times m}=\\begin{bmatrix}\n",
    "    -\\pmb{I} \\\\\n",
    "    \\pmb{I}\n",
    "   \\end{bmatrix},\\pmb{I}为单位矩阵,$\n",
    "* $h:=\\begin{bmatrix}\n",
    "    0 \\\\\n",
    "    0 \\\\\n",
    "    \\vdots \\\\\n",
    "    0 \\\\\n",
    "    C \\\\\n",
    "    C \\\\\n",
    "    \\vdots \\\\\n",
    "    C\n",
    "   \\end{bmatrix}_{2m\\times 1}, 即一个m\\times 1的零列向量与一个m\\times 1的分量全为C的列向量上下拼接$,\n",
    "* $P,q,A,b$与硬间隔优化问题中的矩阵相同。"
   ]
  },
  {
   "cell_type": "code",
   "execution_count": 75,
   "id": "de031f65",
   "metadata": {
    "scrolled": false
   },
   "outputs": [
    {
     "name": "stdout",
     "output_type": "stream",
     "text": [
      "     pcost       dcost       gap    pres   dres\n",
      " 0: -6.2063e+01 -2.7111e+03  7e+03  7e-01  1e-13\n",
      " 1: -3.8357e+01 -7.9488e+02  1e+03  9e-02  1e-13\n",
      " 2: -2.9957e+01 -1.5622e+02  2e+02  1e-02  2e-13\n",
      " 3: -4.3077e+01 -7.8410e+01  4e+01  2e-03  2e-13\n",
      " 4: -5.0581e+01 -5.8786e+01  8e+00  2e-04  2e-13\n",
      " 5: -5.1936e+01 -5.4984e+01  3e+00  8e-05  2e-13\n",
      " 6: -5.2960e+01 -5.4378e+01  1e+00  1e-05  2e-13\n",
      " 7: -5.3514e+01 -5.3543e+01  3e-02  2e-07  2e-13\n",
      " 8: -5.3522e+01 -5.3522e+01  3e-04  2e-09  2e-13\n",
      " 9: -5.3522e+01 -5.3522e+01  3e-06  2e-11  2e-13\n",
      "Optimal solution found.\n"
     ]
    }
   ],
   "source": [
    "# ---- Your code here ----\n",
    "m=len(d2)\n",
    "X=np.array(d2[:,0:2])\n",
    "Y=np.array(d2[:,2:3])\n",
    "Xt=X*Y\n",
    "P=Xt.dot(Xt.T)\n",
    "q=-np.ones(m)\n",
    "G=np.r_[-np.identity(m),np.identity(m)]\n",
    "h=np.r_[np.zeros(m),10*np.ones(m)]#####\n",
    "b=matrix(0.)\n",
    "sol=solvers.qp(matrix(P),matrix(q),matrix(G),matrix(h),matrix(Y.reshape(1,m)),b)\n",
    "\n"
   ]
  },
  {
   "cell_type": "markdown",
   "id": "7093e867",
   "metadata": {},
   "source": [
    "<span style=\"color:purple\">3) 求出$\\pmb{\\omega}^*=\\sum_{i=1}^m\\lambda_i^*y_i\\pmb{x}_i$和$b^*=y_j-\\pmb{\\omega}^{*T}\\pmb{x_j}$, 其中$j$为$\\lambda^*$中的一个正分量$0<\\lambda_j^*<C$的下标。与硬间隔优化问题同理，应该筛掉非常接近0和非常接近$C$的分量。</span>"
   ]
  },
  {
   "cell_type": "code",
   "execution_count": 56,
   "id": "87a4090b",
   "metadata": {},
   "outputs": [],
   "source": [
    "# print(sol['x'])"
   ]
  },
  {
   "cell_type": "code",
   "execution_count": 80,
   "id": "7a7801c9",
   "metadata": {},
   "outputs": [],
   "source": [
    "# ---- Your code here ----\n",
    "w=np.zeros(2)\n",
    "bs=0\n",
    "lamb=np.array(sol['x'])\n",
    "for i in range(m):\n",
    "    w+=lamb[i]*Y[i]*X[i,:]\n",
    "\n",
    "for i in range(m):\n",
    "    if lamb[i]>0.001 and lamb[i]<9:\n",
    "\n",
    "        if Y[i]-w.T.dot(X[i,:])>bs:\n",
    "            bs=Y[i]-w.T.dot(X[i,:])\n",
    "\n"
   ]
  },
  {
   "cell_type": "markdown",
   "id": "7b97abec",
   "metadata": {},
   "source": [
    "<span style=\"color:purple\">4) 画出数据集的散点图，给正样本（y为+1）和负样本（y为-1）分别标上不同的颜色，再为支持向量（训练数据中$\\lambda_j^*>0$的对应的样本）标上不同的颜色，并画出决策边界$\\pmb{\\omega}^{*T}\\pmb{x}+b=0$和间隔边界$\\pmb{\\omega}^{*T}\\pmb{x}+b=1$与$\\pmb{\\omega}^{*T}\\pmb{x}+b=-1$。</span>"
   ]
  },
  {
   "cell_type": "code",
   "execution_count": 81,
   "id": "4446b508",
   "metadata": {},
   "outputs": [
    {
     "data": {
      "image/png": "[encoded data removed]",
      "text/plain": [
       "<Figure size 432x288 with 1 Axes>"
      ]
     },
     "metadata": {
      "needs_background": "light"
     },
     "output_type": "display_data"
    }
   ],
   "source": [
    "# ---- Your code here ----\n",
    "x1=t=np.arange(0,10,2)\n",
    "plt.scatter(d2[label2==1,0],d2[label2==1,1],c='red',label='positive')\n",
    "plt.scatter(d2[label2==-1,0],d2[label2==-1,1],c='blue',label='negative')\n",
    "for i in range(m):\n",
    "    if lamb[i]>0.001:\n",
    "        plt.scatter(d2[i,0],d2[i,1],c='green')\n",
    "x2=-w[0]/w[1]*x1-bs/w[1]\n",
    "plt.plot(x1,x2)\n",
    "x2=-w[0]/w[1]*x1-(bs+1)/w[1]\n",
    "plt.plot(x1,x2)\n",
    "x2=-w[0]/w[1]*x1-(bs-1)/w[1]\n",
    "plt.plot(x1,x2)\n",
    "plt.legend()\n",
    "plt.show()\n"
   ]
  },
  {
   "cell_type": "markdown",
   "id": "e20c4293",
   "metadata": {},
   "source": [
    "3.非线性支持向量机与核函数"
   ]
  },
  {
   "cell_type": "markdown",
   "id": "f830c3b3",
   "metadata": {},
   "source": [
    "[Raisin Dataset](https://www.kaggle.com/datasets/muratkokludataset/raisin-dataset)是一个葡萄干的数据集，总共有900个样本，每个样本包含7个(都是连续的)特征以及1个标签，每个标签只有两种可能取值。本次实验已经按照8：2的比例划分成了训练数据集'Raisin_train.csv'以及测试数据集'Raisin_test.csv'，且每个数据集都已经做了特征归一化处理以及把标签的值替换成了+1和-1。"
   ]
  },
  {
   "cell_type": "markdown",
   "id": "7a6c8ca9",
   "metadata": {},
   "source": [
    "<span style=\"color:purple\">1) 读入训练数据集'Raisin_train.csv',把数据类型都转换成np.double类型。</span>"
   ]
  },
  {
   "cell_type": "code",
   "execution_count": 12,
   "id": "5b020812",
   "metadata": {},
   "outputs": [],
   "source": [
    "# ---- Your code here ----\n",
    "rtrainf=pd.read_csv('Raisin_train.csv')\n",
    "rtrain=np.double(rtrainf)\n"
   ]
  },
  {
   "cell_type": "markdown",
   "id": "89cf5ba7",
   "metadata": {},
   "source": [
    "<span style=\"color:purple\">2) 选择一个核函数$K(\\pmb{x},\\pmb{z})$以及参数C，求解如下对偶问题（参考课件）：</span>\n",
    "$$\n",
    "\\begin{align}\n",
    "\\min_\\lambda\\quad   &\\frac{1}{2}\\sum_{i=1}^m\\sum_{j=1}^m\\lambda_i\\lambda_jy_iy_jK(\\pmb{x}_i,\\pmb{x}_j)-\\sum_{i=1}^m\\lambda_i \\\\\n",
    "s.t. \\quad  &\\sum_{i=1}^m\\lambda_iy_i=0 \\\\\n",
    "      &\\pmb{0}\\leq \\pmb{\\lambda}\\leq C \n",
    "\\end{align}\n",
    "$$\n",
    "\n",
    "相较于软间隔最大化的优化问题，该优化问题仅需要对矩阵$P$做改动。\n",
    "从以下常用的核函数中选择一个作为该优化问题中的$K$（参数自己进行调整）：\n",
    "* 线性核：$K(\\pmb{x},\\pmb{z})=\\pmb{x}^T\\pmb{z}$\n",
    "* 多项式核：$K(\\pmb{x},\\pmb{z})=(\\pmb{x}^T\\pmb{z}+1)^p$\n",
    "* 高斯核：$K(\\pmb{x},\\pmb{z})=exp(-\\frac{\\parallel \\pmb{x}-\\pmb{z} \\parallel^2}{2\\sigma^2})$\n",
    "* 拉普拉斯核：$K(\\pmb{x},\\pmb{z})=exp(-\\frac{\\parallel \\pmb{x}-\\pmb{z} \\parallel}{\\sigma})$\n",
    "* Sigmoid核：$K(\\pmb{x},\\pmb{z})=tanh(\\beta\\pmb{x}^T\\pmb{z}+\\theta)$\n",
    "\n",
    "则$P是一个m\\times m的矩阵，其中P_{ij}=y_iy_jK(\\pmb{x_i},\\pmb{x_j})$。"
   ]
  },
  {
   "cell_type": "code",
   "execution_count": 20,
   "id": "2716c531",
   "metadata": {},
   "outputs": [
    {
     "name": "stdout",
     "output_type": "stream",
     "text": [
      "     pcost       dcost       gap    pres   dres\n",
      " 0: -2.1515e+02 -2.1332e+02  1e+04  4e+01  9e-15\n",
      " 1: -3.6656e+01 -2.0474e+02  6e+02  2e+00  8e-15\n",
      " 2: -2.6211e+01 -1.1790e+02  9e+01  9e-16  1e-15\n",
      " 3: -3.2063e+01 -4.3620e+01  1e+01  2e-16  1e-15\n",
      " 4: -3.7133e+01 -3.9316e+01  2e+00  4e-16  1e-15\n",
      " 5: -3.7971e+01 -3.8591e+01  6e-01  2e-16  1e-15\n",
      " 6: -3.8192e+01 -3.8386e+01  2e-01  2e-16  1e-15\n",
      " 7: -3.8269e+01 -3.8312e+01  4e-02  5e-16  1e-15\n",
      " 8: -3.8284e+01 -3.8298e+01  1e-02  2e-16  1e-15\n",
      " 9: -3.8290e+01 -3.8291e+01  1e-03  4e-16  1e-15\n",
      "10: -3.8291e+01 -3.8291e+01  1e-05  8e-16  1e-15\n",
      "Optimal solution found.\n"
     ]
    }
   ],
   "source": [
    "# ---- Your code here ----\n",
    "\n",
    "\n",
    "\n",
    "m=len(rtrain)\n",
    "X=np.array(rtrain[:,0:7])\n",
    "Y=np.array(rtrain[:,7:8])\n",
    "\n",
    "Xt=X*Y\n",
    "P=Xt.dot(Xt.T)\n",
    "\n",
    "\n",
    "q=-np.ones(m)\n",
    "G=np.r_[-np.identity(m),np.identity(m)]\n",
    "h=np.r_[np.zeros(m),0.1*np.ones(m)]#####\n",
    "b=matrix(0.)\n",
    "sol=solvers.qp(matrix(P),matrix(q),matrix(G),matrix(h),matrix(Y.reshape(1,m)),b)\n",
    "\n",
    "# m=len(rtrain)\n",
    "# X=np.array(rtrain[:,0:7])\n",
    "# Y=np.array(rtrain[:,7:8])\n",
    "\n",
    "\n",
    "# P=1 / (1 + np.exp(-X.dot(X.T)/7))\n",
    "# P*=Y\n",
    "# P*=Y.reshape(1,m)\n",
    "\n",
    "# q=-np.ones(m)\n",
    "# G=np.r_[-np.identity(m),np.identity(m)]\n",
    "# h=np.r_[np.zeros(m),100*np.ones(m)]#####\n",
    "# b=matrix(0.)\n",
    "# sol=solvers.qp(matrix(P),matrix(q),matrix(G),matrix(h),matrix(Y.reshape(1,m)),b)\n",
    "\n"
   ]
  },
  {
   "cell_type": "markdown",
   "id": "1a1a084b",
   "metadata": {},
   "source": [
    "<span style=\"color:purple\">3) 求出$b^*=y_j-\\sum_{i=1}^m \\lambda_i^*y_iK(\\pmb{x_i},\\pmb{x_j})$, 其中$j$为$\\lambda^*$中的一个正分量$0<\\lambda_j^*<C$的下标。</span>"
   ]
  },
  {
   "cell_type": "code",
   "execution_count": 21,
   "id": "51cca8c9",
   "metadata": {},
   "outputs": [],
   "source": [
    "# ---- Your code here ----\n",
    " \n",
    "w=np.zeros(7)\n",
    "bs=0\n",
    "lamb=np.array(sol['x'])\n",
    "for i in range(m):\n",
    "    w+=lamb[i]*Y[i]*X[i,:]\n",
    "\n",
    "for i in range(m):\n",
    "    if lamb[i]>0.001 and lamb[i]<0.09:\n",
    "        if Y[i]-w.T.dot(X[i,:])>bs:\n",
    "            bs=Y[i]-w.T.dot(X[i,:])\n",
    "\n",
    "\n",
    "\n",
    "# bs=-1000\n",
    "# lamb=np.array(sol['x'])\n",
    "\n",
    "# for i in range(m):\n",
    "#     if lamb[i]>0.001 and lamb[i]<90:\n",
    "#         tem=0\n",
    "#         for j in range(m):\n",
    "#             tem+=lamb[j]*Y[j]/ (1 + np.exp(-X[i,:].T.dot(X[j,:])/7))\n",
    "#         if Y[i]-tem>bs:\n",
    "#             bs=Y[i]-tem"
   ]
  },
  {
   "cell_type": "markdown",
   "id": "16b41092",
   "metadata": {},
   "source": [
    "<span style=\"color:purple\">4) 读入测试数据集'Raisin_test.csv',用分类决策函数$f(\\pmb{x})=sign(\\sum_{i=1}^m \\lambda_i^*y_iK(\\pmb{x}_i,\\pmb{x})+b^*)$（注意这里的$m,\\lambda_i^*,y_i,\\pmb{x}_i$是训练集的, $\\pmb{x}$是测试集的）进行预测，输出预测准确率。</span>"
   ]
  },
  {
   "cell_type": "code",
   "execution_count": 22,
   "id": "d2e528d4",
   "metadata": {
    "scrolled": false
   },
   "outputs": [
    {
     "data": {
      "text/plain": [
       "0.8777777777777778"
      ]
     },
     "execution_count": 22,
     "metadata": {},
     "output_type": "execute_result"
    }
   ],
   "source": [
    "# ---- Your code here ----\n",
    "rtestf=pd.read_csv('Raisin_test.csv')\n",
    "rtest=np.double(rtestf)\n",
    "Xtest=np.array(rtest[:,0:7])\n",
    "Ytest=np.array(rtest[:,7:8])\n",
    "total=0\n",
    "for i in range(len(rtest)):\n",
    "    tem=0\n",
    "    tem+=w.T.dot(Xtest[i,:])\n",
    "    tem+=bs\n",
    "    if tem>=0 and Ytest[i]==1:\n",
    "        total+=1\n",
    "    if tem<0 and Ytest[i]==-1:\n",
    "        total+=1\n",
    "total/len(rtest)\n",
    "\n",
    "# rtestf=pd.read_csv('Raisin_test.csv')\n",
    "# rtest=np.double(rtestf)\n",
    "# Xtest=np.array(rtest[:,0:7])\n",
    "# Ytest=np.array(rtest[:,7:8])\n",
    "# total=0\n",
    "# for i in range(len(rtest)):\n",
    "#     tem=0\n",
    "#     for j in range(m):\n",
    "#         tem+=lamb[j]*Y[j]/ (1 + np.exp(-Xtest[i,:].T.dot(X[j,:])/7))\n",
    "#     tem+=bs\n",
    "#     if tem>=0 and Ytest[i]==1:\n",
    "#         total+=1\n",
    "#     if tem<0 and Ytest[i]==-1:\n",
    "#         total+=1\n",
    "# total/len(rtest)\n"
   ]
  },
  {
   "cell_type": "markdown",
   "id": "30e813c6",
   "metadata": {},
   "source": [
    "**<font color = blue size=4>第三部分:作业提交</font>**"
   ]
  },
  {
   "cell_type": "markdown",
   "id": "2c07f805",
   "metadata": {},
   "source": [
    "一、实验课下课前提交完成代码，如果下课前未完成，请将已经完成的部分进行提交，未完成的部分于之后的实验报告中进行补充  \n",
    "要求:  \n",
    "1)文件格式为：学号-姓名.ipynb  \n",
    "2)【不要】提交文件夹、压缩包、数据集等无关文件，只需提交单个ipynb文件即可，如果交错请到讲台前联系助教，删掉之前的错误版本后再进行提交"
   ]
  },
  {
   "cell_type": "markdown",
   "id": "c6e807cb",
   "metadata": {},
   "source": [
    "二、实验报告下周五实验课(5月13号前)上课前提交报告  \n",
    "要求：  \n",
    "1)文件格式为：学号-姓名.pdf  \n",
    "2)【不要】提交文件夹、压缩包、代码文件、数据集等任何与实验报告无关的文件，只需要提交单个pdf文件即可  \n",
    "3)文件命名时不需要额外添加“实验几”等额外信息，按照格式提交  \n",
    "4)每周的实验报告提交地址会变化，且有时间限制，提交时间为下周的实验课开始时，请注意及时提交。"
   ]
  },
  {
   "cell_type": "markdown",
   "id": "48dded90",
   "metadata": {},
   "source": [
    "实验八(支持向量机)的实验报告上交地址:https://workspace.jianguoyun.com/inbox/collect/3d50770a7555409fb8819559cdea19fd/submit"
   ]
  },
  {
   "cell_type": "markdown",
   "id": "fbf1a036",
   "metadata": {},
   "source": [
    "三、课堂课件获取地址:https://www.jianguoyun.com/p/DQlpUFYQp5WhChiS_q0E  \n",
    "实验内容获取地址:https://www.jianguoyun.com/p/DbKbP-AQp5WhChi1sa0E"
   ]
  }
 ],
 "metadata": {
  "kernelspec": {
   "display_name": "Python 3 (ipykernel)",
   "language": "python",
   "name": "python3"
  },
  "language_info": {
   "codemirror_mode": {
    "name": "ipython",
    "version": 3
   },
   "file_extension": ".py",
   "mimetype": "text/x-python",
   "name": "python",
   "nbconvert_exporter": "python",
   "pygments_lexer": "ipython3",
   "version": "3.8.12"
  }
 },
 "nbformat": 4,
 "nbformat_minor": 5
}
