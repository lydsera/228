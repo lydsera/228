{
 "cells": [
  {
   "cell_type": "markdown",
   "id": "3cd334ce",
   "metadata": {},
   "source": [
    "**<font color = black size=6>实验十：卷积神经网络</font>**"
   ]
  },
  {
   "cell_type": "markdown",
   "id": "79567a9b",
   "metadata": {},
   "source": [
    "这次实验课分两周完成，部分实验内容涉及下周的理论课，同学们可继续熟悉pytorch框架"
   ]
  },
  {
   "cell_type": "markdown",
   "id": "b4ab3007",
   "metadata": {},
   "source": [
    "**<font color = blue size=4>第一部分:卷积神经网络介绍</font>**"
   ]
  },
  {
   "cell_type": "markdown",
   "id": "dbaa49e9",
   "metadata": {},
   "source": [
    "输入尺寸为m$\\times$n,卷积核大小为f,步幅为s,填充为p,则输出尺寸为$\\lfloor \\frac{m+2p-f}{s}+1 \\rfloor$ $\\times$ $\\lfloor \\frac{n+2p-f}{s}+1 \\rfloor$  \n",
    "\n",
    "$$( m \\times n )* ( f \\times f ) = \\lfloor \\frac{m+2p-f}{s}+1 \\rfloor \\times \\lfloor \\frac{n+2p-f}{s}+1 \\rfloor$$  \n",
    "例子:输入尺寸为6$\\times$6,卷积核大小为f,步幅默认为1,填充为0,则输出尺寸为$\\lfloor \\frac{6+2\\times0-3}{1}+1 \\rfloor$ $\\times$ $\\lfloor \\frac{6+2\\times0-3}{1}+1 \\rfloor$=$4\\times4$"
   ]
  },
  {
   "cell_type": "markdown",
   "id": "ae82e9e5",
   "metadata": {},
   "source": [
    "卷积层的运算方式"
   ]
  },
  {
   "cell_type": "code",
   "execution_count": 1,
   "id": "2f0ed66d",
   "metadata": {},
   "outputs": [
    {
     "name": "stdout",
     "output_type": "stream",
     "text": [
      "tensor([[ 0.,  3., -1., -1.],\n",
      "        [ 0.,  3., -1., -2.],\n",
      "        [ 0.,  3., -1., -2.],\n",
      "        [ 0.,  3., -2., -3.]])\n"
     ]
    }
   ],
   "source": [
    "import torch\n",
    "import torch.nn  as  nn\n",
    "\n",
    "def conv_calculate(X,K):\n",
    "    h,w=K.shape\n",
    "    Y=torch.zeros((X.shape[0]-h+1,X.shape[1]-w+1))\n",
    "    for i in range(Y.shape[0]):\n",
    "        for j in range(Y.shape[1]):\n",
    "            Y[i,j]=(X[i:i+h ,j:j+w]*K).sum()\n",
    "    return Y\n",
    "#X是进入卷积层的原始数据\n",
    "X=torch.tensor([[0.0,1.0,0.0,0.0,1.0,0.0],\n",
    "                [0.0,1.0,0.0,0.0,0.0,1.0],\n",
    "                [0.0,1.0,0.0,0.0,0.0,0.0],\n",
    "                [0.0,1.0,0.0,0.0,1.0,1.0],\n",
    "                [0.0,1.0,0.0,0.0,0.0,1.0],\n",
    "                [0.0,1.0,0.0,0.0,1.0,1.0]])\n",
    "#K是卷积核，即卷积层的参数之一\n",
    "K=torch.tensor([[1.0,0.0,-1.0],\n",
    "                [1.0,0.0,-1.0],\n",
    "                [1.0,0.0,-1.0]])\n",
    "#conv_calculate(X,K)即X经过该卷积核进行运算完成后得到的结果\n",
    "print(conv_calculate(X,K))"
   ]
  },
  {
   "cell_type": "markdown",
   "id": "840c5b34",
   "metadata": {},
   "source": [
    "手动实现二维卷积层"
   ]
  },
  {
   "cell_type": "code",
   "execution_count": null,
   "id": "1d1684ff",
   "metadata": {},
   "outputs": [],
   "source": [
    "class Conv2D(nn.Module):\n",
    "    def __init__(self,kernel_size):\n",
    "        super().__init__()\n",
    "        #kernel_size:卷积核大小\n",
    "        self.weight = nn.Parameter(torch.rand(kernel_size))\n",
    "        #偏置\n",
    "        self.bias   = nn.Parameter(torch.zeros(1))\n",
    "    def forward(self,x):\n",
    "        return conv_calculate(x,self.weight)+self.bias"
   ]
  },
  {
   "cell_type": "markdown",
   "id": "d5967920",
   "metadata": {},
   "source": [
    "Pytorch中实现卷积层"
   ]
  },
  {
   "cell_type": "code",
   "execution_count": null,
   "id": "206e0554",
   "metadata": {},
   "outputs": [],
   "source": [
    "#输入的通道数目（必须设置的参数）\n",
    "in_channels=1\n",
    "#输出的通道数目（必须设置的参数）\n",
    "out_channels=1\n",
    "#卷积核大小（必须设置的参数）\n",
    "kernel_size=3\n",
    "#其余参数皆为可选的参数，如stride代表步幅，padding代表填充，后面会进行介绍\n",
    "pytorch_conv2d=nn.Conv2d(in_channels, out_channels, kernel_size, stride=1,padding=0)\n",
    "\n",
    "#初始化该卷积层后，会自动随机分配参数。可以输出其中的参数\n",
    "print(pytorch_conv2d.state_dict())\n",
    "#这里我们生成输入数据R1\n",
    "R1=torch.tensor([[1.0,2.0,3.0,4.0,5.0,6.0],\n",
    "                 [2.0,3.0,4.0,5.0,6.0,7.0],\n",
    "                 [3.0,4.0,5.0,6.0,7.0,8.0],\n",
    "                 [4.0,5.0,6.0,7.0,8.0,9.0],\n",
    "                 [5.0,6.0,7.0,8.0,9.0,10.0],\n",
    "                 [6.0,7.0,8.0,9.0,10.0,11.0]])\n",
    "#reshape函数：将数据转换为指定维度以及大小的数据\n",
    "#这里使用reshape函数是由于卷积函数的输入必须是四维数据\n",
    "#其中第一个维度代表着批量大小，第二个维度代表着输入通道数。这里由于我们的X为单通道的一个样本，所以两个维度的参数值均设置为1\n",
    "R1=R1.reshape((1,1,6,6))\n",
    "#将数据R1通过该网络，得到输出数据R2\n",
    "R2=pytorch_conv2d(R1)\n",
    "print(R2,R2.shape)"
   ]
  },
  {
   "cell_type": "markdown",
   "id": "140a02e8",
   "metadata": {},
   "source": [
    "卷积层的简单应用：检测图像中不同颜色的边缘"
   ]
  },
  {
   "cell_type": "code",
   "execution_count": null,
   "id": "0f05873c",
   "metadata": {
    "scrolled": true
   },
   "outputs": [],
   "source": [
    "X=torch.tensor([[10.0,10.0,10.0,0.0,0.0,0.0],\n",
    "                [10.0,10.0,10.0,0.0,0.0,0.0],\n",
    "                [10.0,10.0,10.0,0.0,0.0,0.0],\n",
    "                [10.0,10.0,10.0,0.0,0.0,0.0],\n",
    "                [10.0,10.0,10.0,0.0,0.0,0.0],\n",
    "                [10.0,10.0,10.0,0.0,0.0,0.0]])\n",
    "K=torch.tensor([[1.0,0.0,-1.0],\n",
    "                [1.0,0.0,-1.0],\n",
    "                [1.0,0.0,-1.0]])#卷积核\n",
    "Y=conv_calculate(X,K)\n",
    "print(X)\n",
    "print(Y)"
   ]
  },
  {
   "cell_type": "markdown",
   "id": "a76e76fe",
   "metadata": {},
   "source": [
    "卷积网络中卷积核是可以学习的参数  \n",
    "例子：已知X和X经过某卷积层后得到的结果Y，学习由X生成Y的卷积核"
   ]
  },
  {
   "cell_type": "code",
   "execution_count": null,
   "id": "ec5be2be",
   "metadata": {},
   "outputs": [],
   "source": [
    "conv_test=nn.Conv2d(1,1,kernel_size=(3,3),bias=False)\n",
    "X=X.reshape((1,1,6,6))\n",
    "Y=Y.reshape((1,1,4,4))\n",
    "#我们通过下列的操作去学习由X生成Y的卷积核\n",
    "\n",
    "#学习率\n",
    "lr=0.000001 \n",
    "for i in range(10):\n",
    "    Y_hat=conv_test(X)\n",
    "    #损失函数\n",
    "    l=(Y_hat-Y)**2\n",
    "    #梯度清零\n",
    "    conv_test.zero_grad()\n",
    "    l.sum().backward()\n",
    "    #简易的梯度下降\n",
    "    conv_test.weight.data[:] -= lr * conv_test.weight.grad \n",
    "    print(f'round{i+1},loss:{l.sum():.6f}')\n",
    "print(\"学习得到的卷积核：\",conv_test.weight.data.reshape(3,3))\n",
    "print(\"实际正确的卷积核\",torch.tensor([[1.0,0.0,-1.0],\n",
    "                [1.0,0.0,-1.0],\n",
    "                [1.0,0.0,-1.0]]))"
   ]
  },
  {
   "cell_type": "markdown",
   "id": "6a5a804d",
   "metadata": {},
   "source": [
    "填充"
   ]
  },
  {
   "cell_type": "code",
   "execution_count": null,
   "id": "a1d24060",
   "metadata": {},
   "outputs": [],
   "source": [
    "#在所有侧边填充1个像素\n",
    "X=torch.rand(size=(4,4))\n",
    "\n",
    "#2维变4维\n",
    "X=X.reshape((1,1)+X.shape)\n",
    "print(X,X.shape)\n",
    "\n",
    "#卷积核大小为2X2,填充像素为1\n",
    "conv2d=nn.Conv2d(1,1,kernel_size=2,padding=1) \n",
    "Y=conv2d(X)\n",
    "\n",
    "\n",
    "#所以未填充前计算结果大小为3X3，填充后大小为5X5\n",
    "\n",
    "Y=Y.reshape(Y.shape[2:])\n",
    "print(Y,Y.shape)"
   ]
  },
  {
   "cell_type": "markdown",
   "id": "dead9cc3",
   "metadata": {},
   "source": [
    "步幅"
   ]
  },
  {
   "cell_type": "code",
   "execution_count": null,
   "id": "046c8b49",
   "metadata": {},
   "outputs": [],
   "source": [
    "X=torch.rand(size=(8,8))\n",
    "#2维变4维\n",
    "X=X.reshape((1,1)+X.shape)\n",
    "print(X,X.shape)\n",
    "\n",
    "#卷积核大小为2X2,填充像素为1,步幅为2\n",
    "conv2d=nn.Conv2d(1,1,kernel_size=2,padding=1,stride=2) \n",
    "Y=conv2d(X)\n",
    "\n",
    "#所以未填充前计算结果大小为3X3，填充后大小为5X5\n",
    "Y=Y.reshape(Y.shape[2:])\n",
    "print(Y,Y.shape)"
   ]
  },
  {
   "cell_type": "markdown",
   "id": "a2a6a3b7",
   "metadata": {},
   "source": [
    "多通道"
   ]
  },
  {
   "cell_type": "code",
   "execution_count": null,
   "id": "c15125c3",
   "metadata": {},
   "outputs": [],
   "source": [
    "#多通道的卷积的运算方式\n",
    "def corr2d_multi_calculate(X,K):\n",
    "    return sum(conv_calculate(x,k) for x,k in zip(X,K))\n",
    "#将之前的X从单通道变为二通道\n",
    "X=torch.tensor([[[0.0,1.0,0.0,0.0,1.0,0.0],\n",
    "                 [0.0,1.0,0.0,0.0,0.0,1.0],\n",
    "                 [0.0,1.0,0.0,0.0,0.0,0.0],\n",
    "                 [0.0,1.0,0.0,0.0,1.0,1.0],\n",
    "                 [0.0,1.0,0.0,0.0,0.0,1.0],\n",
    "                 [0.0,1.0,0.0,0.0,1.0,1.0]],\n",
    "                [[0.0,1.0,0.0,0.0,1.0,0.0],\n",
    "                 [0.0,1.0,0.0,0.0,0.0,1.0],\n",
    "                 [0.0,1.0,0.0,0.0,0.0,0.0],\n",
    "                 [0.0,1.0,0.0,0.0,1.0,1.0],\n",
    "                 [0.0,1.0,0.0,0.0,0.0,1.0],\n",
    "                 [0.0,1.0,0.0,0.0,1.0,1.0]]])\n",
    "#相应的卷积核也变为二通道\n",
    "K=torch.tensor([[[1.0,0.0,-1.0],\n",
    "                 [1.0,0.0,-1.0],\n",
    "                 [1.0,0.0,-1.0]],\n",
    "                [[1.0,0.0,-1.0],\n",
    "                 [1.0,0.0,-1.0],\n",
    "                 [1.0,0.0,-1.0]]])\n",
    "print(corr2d_multi_calculate(X,K))"
   ]
  },
  {
   "cell_type": "markdown",
   "id": "feaa7c4d",
   "metadata": {},
   "source": [
    "Pytorch中实现多通道卷积层"
   ]
  },
  {
   "cell_type": "code",
   "execution_count": null,
   "id": "f83a0380",
   "metadata": {},
   "outputs": [],
   "source": [
    "in_channels=2 #输入的通道数目（必须设置的参数）\n",
    "\n",
    "#这里大家可以修改输出通道数来查看输出的变化\n",
    "out_channels=2 #输出的通道数目（必须设置的参数）\n",
    "\n",
    "\n",
    "kernel_size=3 #卷积核大小（必须设置的参数）\n",
    "#其余参数皆为可选的参数，如stride代表步幅，padding代表填充，后面会进行介绍\n",
    "pytorch_conv2d=nn.Conv2d(in_channels, out_channels, kernel_size, stride=1,padding=0)\n",
    "\n",
    "#初始化该卷积层后，会自动随机分配参数。可以输出其中的参数\n",
    "print(pytorch_conv2d.state_dict())\n",
    "#这里我们生成输入数据R1\n",
    "R1=torch.tensor([[[0.0,1.0,0.0,0.0,1.0,0.0],\n",
    "                 [0.0,1.0,0.0,0.0,0.0,1.0],\n",
    "                 [0.0,1.0,0.0,0.0,0.0,0.0],\n",
    "                 [0.0,1.0,0.0,0.0,1.0,1.0],\n",
    "                 [0.0,1.0,0.0,0.0,0.0,1.0],\n",
    "                 [0.0,1.0,0.0,0.0,1.0,1.0]],\n",
    "                [[0.0,1.0,0.0,0.0,1.0,0.0],\n",
    "                 [0.0,1.0,0.0,0.0,0.0,1.0],\n",
    "                 [0.0,1.0,0.0,0.0,0.0,0.0],\n",
    "                 [0.0,1.0,0.0,0.0,1.0,1.0],\n",
    "                 [0.0,1.0,0.0,0.0,0.0,1.0],\n",
    "                 [0.0,1.0,0.0,0.0,1.0,1.0]]])\n",
    "#其这里由于我们的R1为两通道的一个样本，所以批量为1，输入通道为2\n",
    "R1=R1.reshape((1,2,6,6))\n",
    "#将数据R1通过该网络，得到输出数据R2\n",
    "R2=pytorch_conv2d(R1)\n",
    "print(R2,R2.shape)"
   ]
  },
  {
   "cell_type": "markdown",
   "id": "b82f74cc",
   "metadata": {},
   "source": [
    "池化层"
   ]
  },
  {
   "cell_type": "code",
   "execution_count": null,
   "id": "e2b25593",
   "metadata": {},
   "outputs": [],
   "source": [
    "import torch\n",
    "import torch.nn  as  nn\n",
    "#最大池化层\n",
    "def pool_use(X,pool_size):\n",
    "    p_h,p_w=pool_size\n",
    "    Y=torch.zeros((X.shape[0]-p_h+1,X.shape[1]-p_w+1))\n",
    "    for i in range(Y.shape[0]):\n",
    "        for j in range(Y.shape[1]):\n",
    "            Y[i,j]=X[i:i+p_h,j:j+p_w].max()\n",
    "    return Y\n",
    "X=torch.tensor([[0.0,1.0,0.0,0.0,1.0,0.0],\n",
    "                [0.0,2.0,0.0,0.0,0.0,1.0],\n",
    "                [0.0,1.0,3.0,0.0,0.0,0.0],\n",
    "                [0.0,1.0,0.0,0.0,1.0,1.0],\n",
    "                [0.0,1.0,0.0,0.0,6.0,1.0],\n",
    "                [0.0,1.0,0.0,0.0,1.0,1.0]])\n",
    "print(pool_use(X,(2,2)))"
   ]
  },
  {
   "cell_type": "markdown",
   "id": "e5319efe",
   "metadata": {},
   "source": [
    "Pytorch中的池化层实现"
   ]
  },
  {
   "cell_type": "code",
   "execution_count": null,
   "id": "871be22c",
   "metadata": {},
   "outputs": [],
   "source": [
    "#常用参数：kernel_size：最大池化的窗口大小，stride步长，padding:填充\n",
    "#需要设置通道数\n",
    "X=X.reshape((1,1,6,6))\n",
    "pool_nn=nn.MaxPool2d(kernel_size=2,stride=1)\n",
    "print(pool_nn(X))"
   ]
  },
  {
   "cell_type": "markdown",
   "id": "c448b0be",
   "metadata": {},
   "source": [
    "MNIST数据集"
   ]
  },
  {
   "cell_type": "markdown",
   "id": "16250b3d",
   "metadata": {},
   "source": [
    "MNIST数据集由10个类别(即数字0到9)的手写数字图片所组成，包括60000个训练样本和10000个测试样本，每个样本都是单通道图片,由28x28x1个像素点组成"
   ]
  },
  {
   "cell_type": "markdown",
   "id": "5cc31a91",
   "metadata": {},
   "source": [
    "这里加载一张MNIST数据集中的一个样本，一个样本即为一张图片，我们使用pytorch框架将其转换为tensor类型，其shape即为[1,28,28]，代表每个样本都是单通道图片,由28x28个像素点组成，其对应的label为7"
   ]
  },
  {
   "attachments": {
    "MNIST%E6%95%B0%E6%8D%AE.PNG": {
     "image/png": "[encoded data removed]"
    }
   },
   "cell_type": "markdown",
   "id": "51a6f6fa",
   "metadata": {},
   "source": [
    "![MNIST%E6%95%B0%E6%8D%AE.PNG](attachment:MNIST%E6%95%B0%E6%8D%AE.PNG)"
   ]
  },
  {
   "cell_type": "code",
   "execution_count": null,
   "id": "f8c056d4",
   "metadata": {},
   "outputs": [],
   "source": [
    "#torchvision 库是服务于pytorch深度学习框架的,用来生成图片,视频数据集,和一些流行的模型类和预训练模型\n",
    "#可以调用torchvision.datasets.MNIST(root, train=True, transform=None, target_transform=None, download=False)来下载MNIST数据集\n",
    "#参数root代表存放数据集的根目录\n",
    "#参数train代表是否为训练数据集\n",
    "#参数Transform代表一个函数/转换，它接收PIL图像并返回转换后的版本。这里我们pytorch框架中只接收tensor类型数据，所以需要进行转换\n",
    "#参数download如果为true，则从Internet下载数据集并将其放在根目录中。如果已下载数据集，则不会再次下载"
   ]
  },
  {
   "cell_type": "code",
   "execution_count": null,
   "id": "5922cf2b",
   "metadata": {},
   "outputs": [],
   "source": [
    "import torch.utils.data as Data #加载数据用\n",
    "#在使用上面的torchvision.datasets调用完数据集后，再使用torch.utils.data的DataLoader方法来将数据集划分为许多batch，下面是三个主要参数\n",
    "#dataset： 加载数据的数据集。\n",
    "#batch_size：每个batch加载多少个样本(默认: 1)。\n",
    "#shuffle：设置为True时会在每个epoch重新打乱数据(默认: False)."
   ]
  },
  {
   "cell_type": "markdown",
   "id": "ac732951",
   "metadata": {},
   "source": [
    "**<font color = blue size=4>第二部分:实验任务</font>**"
   ]
  },
  {
   "cell_type": "markdown",
   "id": "62c168ff",
   "metadata": {},
   "source": [
    "任务1：使用LeNet网络训练MNIST数据集，保存每轮epoch中每个batch的训练损失以及每次网络更新后在测试集上的准确率，之后分别作两张图来将数据可视化。神经网络构建后，通过超参数的调整尽可能获得更高的准确率。"
   ]
  },
  {
   "cell_type": "code",
   "execution_count": 1,
   "id": "f8015179",
   "metadata": {},
   "outputs": [],
   "source": [
    "import torch\n",
    "import torchvision\n",
    "import matplotlib.pyplot as  plt\n",
    "import torch.nn  as  nn\n",
    "import torch.utils.data as Data \n",
    "import torch.nn.functional as F"
   ]
  },
  {
   "cell_type": "markdown",
   "id": "c4ffcaf0",
   "metadata": {},
   "source": [
    "搭建LeNet神经网络"
   ]
  },
  {
   "cell_type": "markdown",
   "id": "d95351e2",
   "metadata": {},
   "source": [
    "LeNet实现：  \n",
    "输入层：输入为28x28x1  \n",
    "卷积层1：卷积核大小：5x5；输出大小：28x28x6 （为了保证输入和输出大小一致，所以这里需要加入填充）  \n",
    "最大池化层1：卷积核大小：2x2；步幅大小：2；输出大小：14x14x6    \n",
    "卷积层2：卷积核大小：5x5；输出大小：10x10x16  \n",
    "最大池化层2：卷积核大小：2x2；步幅大小：2；输出大小：5x5x16  \n",
    "全连接层1：输入大小：5x5x16；输出大小：120  \n",
    "全连接层2：输入大小：120；输出大小：84  \n",
    "全连接层3：输入大小：84；输出大小：10"
   ]
  },
  {
   "cell_type": "markdown",
   "id": "88cfcecb",
   "metadata": {},
   "source": [
    "计算图如下：\n",
    "input -> conv2d -> relu -> maxpool2d -> conv2d -> relu -> maxpool2d  \n",
    "     -> linear -> relu -> linear -> relu -> linear"
   ]
  },
  {
   "cell_type": "code",
   "execution_count": 2,
   "id": "e8f57b64",
   "metadata": {},
   "outputs": [
    {
     "name": "stdout",
     "output_type": "stream",
     "text": [
      "LeNet(\n",
      "  (conv1): Conv2d(1, 6, kernel_size=(5, 5), stride=(1, 1), padding=(2, 2))\n",
      "  (pool1): MaxPool2d(kernel_size=2, stride=2, padding=0, dilation=1, ceil_mode=False)\n",
      "  (conv2): Conv2d(6, 16, kernel_size=(5, 5), stride=(1, 1))\n",
      "  (pool2): MaxPool2d(kernel_size=2, stride=2, padding=0, dilation=1, ceil_mode=False)\n",
      "  (fc1): Linear(in_features=400, out_features=120, bias=True)\n",
      "  (fc2): Linear(in_features=120, out_features=84, bias=True)\n",
      "  (fc3): Linear(in_features=84, out_features=10, bias=True)\n",
      ")\n"
     ]
    }
   ],
   "source": [
    "\n",
    "class LeNet(nn.Module):\n",
    "    def __init__(self):\n",
    "        super(LeNet, self).__init__()\n",
    "        self.conv1 = nn.Conv2d(1,6,5,1,2)\n",
    "        self.pool1 = nn.MaxPool2d(kernel_size=2,stride=2)\n",
    "        self.conv2 = nn.Conv2d(6,16,5)\n",
    "        self.pool2 = nn.MaxPool2d(kernel_size=2,stride=2)\n",
    "        self.fc1 = nn.Linear(16 * 5 * 5, 120)  \n",
    "        self.fc2 = nn.Linear(120, 84)\n",
    "        self.fc3 = nn.Linear(84, 10)\n",
    "        \n",
    "    # 定义前向传播过程，输入为x\n",
    "    def forward(self, x):\n",
    "        \n",
    "        x = self.pool1(F.relu(self.conv1(x)))\n",
    "        \n",
    "        x = self.pool2(F.relu(self.conv2(x)))\n",
    "        x = torch.flatten(x, 1) \n",
    "        x = F.relu(self.fc1(x))\n",
    "        x = F.relu(self.fc2(x))\n",
    "        x = self.fc3(x)\n",
    "        return x\n",
    "net=LeNet()\n",
    "print(net)"
   ]
  },
  {
   "cell_type": "markdown",
   "id": "64dbcf36",
   "metadata": {},
   "source": [
    "设置超参数，包括训练轮数，批次大小，学习率"
   ]
  },
  {
   "cell_type": "code",
   "execution_count": 3,
   "id": "cb72975a",
   "metadata": {},
   "outputs": [],
   "source": [
    "epoch = 10\n",
    "batch = 100\n",
    "rate = 0.01"
   ]
  },
  {
   "cell_type": "markdown",
   "id": "7568dbdd",
   "metadata": {},
   "source": [
    "定义该次网络训练中需要使用的损失函数和优化方法"
   ]
  },
  {
   "cell_type": "code",
   "execution_count": 4,
   "id": "25865f80",
   "metadata": {},
   "outputs": [],
   "source": [
    "import torch.optim as optim\n",
    "criterion = nn.CrossEntropyLoss()\n",
    "optimizer = optim.Adam(net.parameters(), lr=rate)"
   ]
  },
  {
   "cell_type": "markdown",
   "id": "4c75bced",
   "metadata": {},
   "source": [
    "构建MNIST数据集，并按照训练批次大小完成训练集和测试集的划分"
   ]
  },
  {
   "cell_type": "code",
   "execution_count": 5,
   "id": "11946416",
   "metadata": {},
   "outputs": [],
   "source": [
    "\n",
    "train_dataset = torchvision.datasets.MNIST(root='mnist_data', train=True, transform=torchvision.transforms.ToTensor(), target_transform=None, download=False)\n",
    "test_dataset = torchvision.datasets.MNIST(root='mnist_data', train=False, transform=torchvision.transforms.ToTensor(), target_transform=None, download=False)\n",
    "\n",
    "train_loader = torch.utils.data.DataLoader(dataset=train_dataset,batch_size=batch)\n",
    "test_loader = torch.utils.data.DataLoader(dataset=test_dataset,batch_size=batch)"
   ]
  },
  {
   "cell_type": "markdown",
   "id": "af16b7ac",
   "metadata": {},
   "source": [
    "开始训练完成并更新，保存每轮中每个batch的训练损失，以及每轮网络更新后的准确率  \n",
    "如果训练效果较差，可以对超参数以及神经网络进行适当调整"
   ]
  },
  {
   "cell_type": "code",
   "execution_count": 6,
   "id": "bf93d235",
   "metadata": {},
   "outputs": [],
   "source": [
    "\n",
    "\n",
    "train_loss = []\n",
    "test_loss = []\n",
    "correct = []\n",
    "for i in range(epoch):\n",
    "    train_correct=0\n",
    "    tem=0\n",
    "    for img, label in train_loader:\n",
    "        out = net(img)\n",
    "        loss=criterion(out,label)\n",
    "        optimizer.zero_grad()\n",
    "        loss.backward()\n",
    "        optimizer.step()\n",
    "        tem+=loss \n",
    "        _, m = out.max(1)    \n",
    "        num_correct = (m == label).sum().item()  \n",
    "        acc = num_correct / img.shape[0]\n",
    "        train_correct += acc\n",
    "    train_loss.append(tem / len(train_loader))\n",
    "    correct.append(train_correct / len(train_loader))\n",
    "    \n",
    "    \n",
    "    tem = 0\n",
    "    for img, label in test_loader:\n",
    "        out = net(img)\n",
    "        loss = criterion(out, label)\n",
    "        \n",
    " \n",
    "        tem += loss\n",
    "    test_loss.append(tem / len(test_loader))\n",
    "    \n",
    "\n"
   ]
  },
  {
   "cell_type": "markdown",
   "id": "520c80cb",
   "metadata": {},
   "source": [
    "利用上次实验中的画图方法将训练损失和准确率进行作图"
   ]
  },
  {
   "cell_type": "code",
   "execution_count": 10,
   "id": "1c2915f0",
   "metadata": {},
   "outputs": [
    {
     "data": {
      "image/png": "[encoded data removed]",
      "text/plain": [
       "<Figure size 432x288 with 1 Axes>"
      ]
     },
     "metadata": {
      "needs_background": "light"
     },
     "output_type": "display_data"
    },
    {
     "data": {
      "image/png": "[encoded data removed]",
      "text/plain": [
       "<Figure size 432x288 with 1 Axes>"
      ]
     },
     "metadata": {
      "needs_background": "light"
     },
     "output_type": "display_data"
    },
    {
     "data": {
      "image/png": "[encoded data removed]",
      "text/plain": [
       "<Figure size 432x288 with 1 Axes>"
      ]
     },
     "metadata": {
      "needs_background": "light"
     },
     "output_type": "display_data"
    }
   ],
   "source": [
    "import numpy as np\n",
    "import pandas as pd\n",
    "import matplotlib.pyplot as plt\n",
    "import os\n",
    "os.environ[\"KMP_DUPLICATE_LIB_OK\"] = \"TRUE\"  \n",
    "# for i in range(len(train_loss)):\n",
    "#     train_loss[i]=train_loss[i].detach().numpy()   /////也可以在训练时就转成numpy\n",
    "# for i in range(len(test_loss)):\n",
    "#     test_loss[i]=test_loss[i].detach().numpy()\n",
    "plt.title(\"train_loss\")\n",
    "plt.plot(np.arange(len(train_loss)), train_loss)\n",
    "plt.show()\n",
    " \n",
    "plt.title(\"test_loss\")\n",
    "plt.plot(np.arange(len(test_loss)), test_loss)\n",
    "plt.show()\n",
    "\n",
    "plt.plot(np.arange(len(correct)),correct,color='green',label='correct')\n",
    "plt.legend()\n",
    "plt.show()"
   ]
  },
  {
   "cell_type": "markdown",
   "id": "165c21aa",
   "metadata": {},
   "source": [
    "任务2：Alexnet较为复杂，训练时间长，感兴趣的同学可以课后尝试训练，这里不做要求训练。只要求写出网络结构的代码。"
   ]
  },
  {
   "cell_type": "markdown",
   "id": "7c4c3cb5",
   "metadata": {},
   "source": [
    "AlexNet实现：  \n",
    "输入层：输入为28x28x1  \n",
    "卷积层1：卷积核大小：3x3；输出大小：28x28x32 （为了保证输入和输出大小一致，所以这里需要加入填充）  \n",
    "最大池化层1：卷积核大小：2x2；步幅大小：2；输出大小：14x14x32  \n",
    "ReLu1  \n",
    "卷积层2：卷积核大小：3x3；输出大小：14x14x64 （为了保证输入和输出大小一致，所以这里需要加入填充）  \n",
    "最大池化层2：卷积核大小：2x2；步幅大小：2；输出大小：7x7x64   \n",
    "ReLu2  \n",
    "卷积层3：卷积核大小：3x3；输出大小：7x7x128 （为了保证输入和输出大小一致，所以这里需要加入填充）  \n",
    "卷积层4：卷积核大小：3x3；输出大小：7x7x256 （为了保证输入和输出大小一致，所以这里需要加入填充）  \n",
    "卷积层5：卷积核大小：3x3；输出大小：7x7x256 （为了保证输入和输出大小一致，所以这里需要加入填充）  \n",
    "最大池化层3：卷积核大小：2x2；步幅大小：2；输出大小：3x3x256   \n",
    "ReLu3   \n",
    "全连接层1：输入大小：3x3x256；输出大小：1024    \n",
    "全连接层2：输入大小：1024；输出大小：512    \n",
    "全连接层3：输入大小：512；输出大小：10"
   ]
  },
  {
   "cell_type": "code",
   "execution_count": 11,
   "id": "41beeb15",
   "metadata": {},
   "outputs": [
    {
     "name": "stdout",
     "output_type": "stream",
     "text": [
      "AlexNet(\n",
      "  (conv1): Conv2d(1, 32, kernel_size=(3, 3), stride=(1, 1), padding=(1, 1))\n",
      "  (pool1): MaxPool2d(kernel_size=2, stride=2, padding=0, dilation=1, ceil_mode=False)\n",
      "  (conv2): Conv2d(32, 64, kernel_size=(3, 3), stride=(1, 1), padding=(1, 1))\n",
      "  (pool2): MaxPool2d(kernel_size=2, stride=2, padding=0, dilation=1, ceil_mode=False)\n",
      "  (conv3): Conv2d(64, 128, kernel_size=(3, 3), stride=(1, 1), padding=(1, 1))\n",
      "  (conv4): Conv2d(128, 256, kernel_size=(3, 3), stride=(1, 1), padding=(1, 1))\n",
      "  (conv5): Conv2d(256, 256, kernel_size=(3, 3), stride=(1, 1), padding=(1, 1))\n",
      "  (pool3): MaxPool2d(kernel_size=2, stride=2, padding=0, dilation=1, ceil_mode=False)\n",
      "  (fc1): Linear(in_features=2304, out_features=1024, bias=True)\n",
      "  (fc2): Linear(in_features=1024, out_features=512, bias=True)\n",
      "  (fc3): Linear(in_features=512, out_features=10, bias=True)\n",
      ")\n"
     ]
    }
   ],
   "source": [
    "import torch.nn.functional as F\n",
    "class AlexNet(nn.Module):\n",
    "    def __init__(self):\n",
    "        super(AlexNet,self).__init__()\n",
    "        self.conv1 = nn.Conv2d(1,32,3,1,1)\n",
    "        self.pool1 = nn.MaxPool2d(kernel_size=2,stride=2)\n",
    "        self.conv2 = nn.Conv2d(32,64,3,1,1)\n",
    "        self.pool2 = nn.MaxPool2d(kernel_size=2,stride=2)\n",
    "        self.conv3 = nn.Conv2d(64,128,3,1,1)\n",
    "        self.conv4 = nn.Conv2d(128,256,3,1,1)\n",
    "        self.conv5 = nn.Conv2d(256,256,3,1,1)\n",
    "        self.pool3 = nn.MaxPool2d(kernel_size=2,stride=2)\n",
    "        self.fc1 = nn.Linear(3*3*256, 1024)  \n",
    "        self.fc2 = nn.Linear(1024, 512)\n",
    "        self.fc3 = nn.Linear(512, 10)\n",
    "    def forward(self,x):\n",
    "        x = self.pool1(F.relu(self.conv1(x)))\n",
    "        x = self.pool2(F.relu(self.conv2(x)))\n",
    "        x = self.conv3(x)\n",
    "        x = self.conv4(x)\n",
    "        x = self.conv5(x)\n",
    "        x = self.pool3(F.relu(x))\n",
    "        x = torch.flatten(x, 1) \n",
    "        x = F.relu(self.fc1(x))\n",
    "        x = F.relu(self.fc2(x))\n",
    "        x = self.fc3(x)\n",
    "        return x\n",
    "net=AlexNet()\n",
    "print(net)"
   ]
  },
  {
   "cell_type": "markdown",
   "id": "de556c17",
   "metadata": {},
   "source": [
    "**<font color = blue size=4>第三部分:作业提交</font>**"
   ]
  },
  {
   "cell_type": "markdown",
   "id": "33af4c65",
   "metadata": {},
   "source": [
    "一、实验课下课前提交完成代码，如果下课前未完成，请将已经完成的部分进行提交，未完成的部分于之后的实验报告中进行补充  \n",
    "要求:  \n",
    "1)文件格式为：学号-姓名.ipynb  \n",
    "2)【不要】提交文件夹、压缩包、数据集等无关文件，只需提交单个ipynb文件即可，如果交错请到讲台前联系助教，删掉之前的错误版本后再进行提交"
   ]
  },
  {
   "cell_type": "markdown",
   "id": "317ee601",
   "metadata": {},
   "source": [
    "二、本次实验分两周完成，所以实验报告于下下周五实验课(6月10号前)上课前提交报告  \n",
    "要求：  \n",
    "1)文件格式为：学号-姓名.pdf  \n",
    "2)【不要】提交文件夹、压缩包、代码文件、数据集等任何与实验报告无关的文件，只需要提交单个pdf文件即可  \n",
    "3)文件命名时不需要额外添加“实验几”等额外信息，按照格式提交  \n",
    "4)每周的实验报告提交地址会变化，且有时间限制，提交时间为下周的实验课开始时，请注意及时提交。"
   ]
  },
  {
   "cell_type": "markdown",
   "id": "ff171e9b",
   "metadata": {},
   "source": [
    "实验十(卷积网络)的实验报告上交地址:https://workspace.jianguoyun.com/inbox/collect/998b6c0c23d04152bcd41a7760e595cc/submit"
   ]
  },
  {
   "cell_type": "markdown",
   "id": "7096d66f",
   "metadata": {},
   "source": [
    "三、课堂课件获取地址:https://www.jianguoyun.com/p/DQlpUFYQp5WhChiS_q0E  \n",
    "实验内容获取地址:https://www.jianguoyun.com/p/DbKbP-AQp5WhChi1sa0E"
   ]
  }
 ],
 "metadata": {
  "kernelspec": {
   "display_name": "Python 3 (ipykernel)",
   "language": "python",
   "name": "python3"
  },
  "language_info": {
   "codemirror_mode": {
    "name": "ipython",
    "version": 3
   },
   "file_extension": ".py",
   "mimetype": "text/x-python",
   "name": "python",
   "nbconvert_exporter": "python",
   "pygments_lexer": "ipython3",
   "version": "3.9.12"
  }
 },
 "nbformat": 4,
 "nbformat_minor": 5
}
