{
 "cells": [
  {
   "cell_type": "markdown",
   "id": "0c6be3f3",
   "metadata": {},
   "source": [
    "**<font color = black size=6>实验六:降维和聚类</font>**"
   ]
  },
  {
   "cell_type": "markdown",
   "id": "c67603ef",
   "metadata": {},
   "source": [
    "本次实验为编写机器学习中的用于降维的PCA(主成分分析)和聚类的k-means算法。在本次实验中，我们将对一个维度过高的数据集进行降维，之后对降维后的数据进行聚类。"
   ]
  },
  {
   "cell_type": "code",
   "execution_count": 1,
   "id": "073dcebf",
   "metadata": {},
   "outputs": [],
   "source": [
    "import pandas as pd\n",
    "import numpy as np\n",
    "import matplotlib.pyplot as plt\n",
    "import math\n",
    "import matplotlib as mpl\n",
    "from pandas.core.frame import DataFrame\n",
    "import warnings\n",
    "warnings.filterwarnings('ignore')"
   ]
  },
  {
   "cell_type": "markdown",
   "id": "1dfd27f7",
   "metadata": {},
   "source": [
    "**<font color = blue size=4>第一部分:函数介绍</font>**"
   ]
  },
  {
   "cell_type": "markdown",
   "id": "33c792dc",
   "metadata": {},
   "source": [
    "介绍一些可以用到的函数"
   ]
  },
  {
   "cell_type": "markdown",
   "id": "8623386d",
   "metadata": {},
   "source": [
    "1.计算方阵的特征值和特征向量"
   ]
  },
  {
   "cell_type": "code",
   "execution_count": 2,
   "id": "0b7f2092",
   "metadata": {},
   "outputs": [
    {
     "name": "stdout",
     "output_type": "stream",
     "text": [
      "该矩阵的特征值: [1. 2. 3.]\n",
      "该矩阵的特征向量: [[1. 0. 0.]\n",
      " [0. 1. 0.]\n",
      " [0. 0. 1.]]\n"
     ]
    },
    {
     "data": {
      "text/plain": [
       "[array([1., 0., 0.]), array([0., 1., 0.])]"
      ]
     },
     "execution_count": 2,
     "metadata": {},
     "output_type": "execute_result"
    }
   ],
   "source": [
    "a=np.array([[1,0,0],[0,2,0],[0,0,3]])\n",
    "vals,vecs=np.linalg.eig(a)\n",
    "print(\"该矩阵的特征值:\",vals)\n",
    "print(\"该矩阵的特征向量:\",vecs)\n",
    "list(vecs)[0:2]"
   ]
  },
  {
   "cell_type": "markdown",
   "id": "eff37fad",
   "metadata": {},
   "source": [
    "2.排序函数"
   ]
  },
  {
   "cell_type": "code",
   "execution_count": 3,
   "id": "2ef721e8",
   "metadata": {},
   "outputs": [
    {
     "name": "stdout",
     "output_type": "stream",
     "text": [
      "[4, 3, 2, 1]\n",
      "未排序前: [(3, [0, 0, 3, 0]), (1, [1, 0, 0, 0]), (2, [0, 2, 0, 0]), (4, [0, 0, 0, 4])]\n",
      "排序后: [(4, [0, 0, 0, 4]), (3, [0, 0, 3, 0]), (2, [0, 2, 0, 0]), (1, [1, 0, 0, 0])]\n"
     ]
    }
   ],
   "source": [
    "#list的排序\n",
    "a=[3,1,2,4]\n",
    "a.sort(reverse=True)\n",
    "print(a)\n",
    "#字典的排序\n",
    "a=[3,1,2,4]\n",
    "b=[[0,0,3,0],[1,0,0,0],[0,2,0,0],[0,0,0,4]]\n",
    "c = [(a[i],b[i]) for i in range(len(a))]\n",
    "print(\"未排序前:\",c)\n",
    "c=sorted(c,reverse=True)\n",
    "print(\"排序后:\",c)\n"
   ]
  },
  {
   "cell_type": "markdown",
   "id": "1a0fe79b",
   "metadata": {},
   "source": [
    "**<font color = blue size=4>第二部分:实验任务</font>**"
   ]
  },
  {
   "cell_type": "markdown",
   "id": "4c351d23",
   "metadata": {},
   "source": [
    "**<font color = green size=3>1):降维</font>**"
   ]
  },
  {
   "cell_type": "markdown",
   "id": "ac44d45c",
   "metadata": {},
   "source": [
    "<span style=\"color:purple\">1.将训练集\"train_data.csv\"导入，训练集共有167个样本，每个样本有9个属性，将原始数据按列组成9行167列的矩阵X</span>"
   ]
  },
  {
   "cell_type": "code",
   "execution_count": 4,
   "id": "d54060ef",
   "metadata": {},
   "outputs": [
    {
     "data": {
      "text/plain": [
       "array([[9.02e+01, 1.66e+01, 2.73e+01, ..., 2.33e+01, 5.63e+01, 8.31e+01],\n",
       "       [1.00e+01, 2.80e+01, 3.84e+01, ..., 7.20e+01, 3.00e+01, 3.70e+01],\n",
       "       [7.58e+00, 6.55e+00, 4.17e+00, ..., 6.84e+00, 5.18e+00, 5.89e+00],\n",
       "       ...,\n",
       "       [5.62e+01, 7.63e+01, 7.65e+01, ..., 7.31e+01, 6.75e+01, 5.20e+01],\n",
       "       [5.82e+00, 1.65e+00, 2.89e+00, ..., 1.95e+00, 4.67e+00, 5.40e+00],\n",
       "       [5.53e+02, 4.09e+03, 4.46e+03, ..., 1.31e+03, 1.31e+03, 1.46e+03]])"
      ]
     },
     "execution_count": 4,
     "metadata": {},
     "output_type": "execute_result"
    }
   ],
   "source": [
    "train_frame = pd.read_csv('train_data.csv')\n",
    "train = np.array(train_frame)\n",
    "train.T"
   ]
  },
  {
   "cell_type": "markdown",
   "id": "22e10545",
   "metadata": {},
   "source": [
    "<span style=\"color:purple\">2.对所有样本进行中心化，即将X的每一行减去这一行的均值</span>"
   ]
  },
  {
   "cell_type": "code",
   "execution_count": 5,
   "id": "f44bbc10",
   "metadata": {},
   "outputs": [],
   "source": [
    "tem = np.average(train,axis=0)\n",
    "\n",
    "train = train - tem\n",
    "\n",
    "\n"
   ]
  },
  {
   "cell_type": "markdown",
   "id": "533ea386",
   "metadata": {},
   "source": [
    "<span style=\"color:purple\">3.求出协方差矩阵$X$.$X^T$</span>"
   ]
  },
  {
   "cell_type": "code",
   "execution_count": 6,
   "id": "b56235b2",
   "metadata": {},
   "outputs": [],
   "source": [
    "xie = np.dot(train.T,train)\n"
   ]
  },
  {
   "cell_type": "markdown",
   "id": "9019cd5d",
   "metadata": {},
   "source": [
    "<span style=\"color:purple\">4.对协方差矩阵$X$.$X^T$做特征值分解，即求出协方差矩阵的特征值$\\vec{\\lambda}=\\{\\lambda_1,\\lambda_2,...,\\lambda_d\\}$及对应的特征向量$\\vec{\\omega}=\\{\\omega_1,\\omega_2,...,\\omega_d\\}$. 其中$\\lambda_i \\sim \\omega_i$.</span>"
   ]
  },
  {
   "cell_type": "code",
   "execution_count": 7,
   "id": "de4da6b1",
   "metadata": {},
   "outputs": [],
   "source": [
    "lamb,w = np.linalg.eig(xie)"
   ]
  },
  {
   "cell_type": "markdown",
   "id": "231d75c4",
   "metadata": {},
   "source": [
    "<span style=\"color:purple\">5.选取降维后的维度k：依据特征值计算方差的贡献率，先将所有特征值按照降序进行排序。要求降维后的数据方差占比超过阈值t%，公式如下. 我们这里取阈值为t%=99%:\n",
    "    $$\\frac{\\sum_{i=1}^k\\lambda_i}{\\sum_{i=1}^d\\lambda_i} \\geq t\\%$$\n",
    "</span>"
   ]
  },
  {
   "cell_type": "code",
   "execution_count": 8,
   "id": "9e71a84e",
   "metadata": {},
   "outputs": [],
   "source": [
    "lamblist = list(lamb)\n",
    "lamblist.sort(reverse=True)\n",
    "\n",
    "total = np.sum(lamb)\n",
    "cum = 0\n",
    "k = -1\n",
    "# print(total)\n",
    "for i in range(len(lamb)):\n",
    "    cum+=lamblist[i]\n",
    "#     print(cum)\n",
    "    if cum/total>=0.99:\n",
    "        k=i\n",
    "        break\n",
    "# k"
   ]
  },
  {
   "cell_type": "markdown",
   "id": "bffdeb99",
   "metadata": {},
   "source": [
    "<span style=\"color:purple\">6.将特征向量按对应特征值大小从上到下按行排列，取前k个对应特征值最大的特征向量组成投影矩阵W=($\\omega_1,\\omega_2,...,\\omega_k$)</span>"
   ]
  },
  {
   "cell_type": "code",
   "execution_count": 9,
   "id": "956b172f",
   "metadata": {},
   "outputs": [
    {
     "data": {
      "text/plain": [
       "(2, 9)"
      ]
     },
     "execution_count": 9,
     "metadata": {},
     "output_type": "execute_result"
    }
   ],
   "source": [
    "wlist=list(w)\n",
    "lambnew=lamblist[0:k+1]\n",
    "wnew=wlist[0:k+1]\n",
    "W = []\n",
    "for i in range(len(lambnew)):\n",
    "    W.append(wnew[i])\n",
    "W = np.array(W)\n",
    "W.shape"
   ]
  },
  {
   "cell_type": "markdown",
   "id": "207a7025",
   "metadata": {},
   "source": [
    "<span style=\"color:purple\">7.根据公式$Y=P.X$得到降维到k维后的数据集Y。"
   ]
  },
  {
   "cell_type": "code",
   "execution_count": 10,
   "id": "ec0fa808",
   "metadata": {},
   "outputs": [
    {
     "data": {
      "text/plain": [
       "(2, 167)"
      ]
     },
     "execution_count": 10,
     "metadata": {},
     "output_type": "execute_result"
    }
   ],
   "source": [
    "Y = np.dot(W,train.T)\n",
    "Y.shape"
   ]
  },
  {
   "cell_type": "markdown",
   "id": "690ecc20",
   "metadata": {},
   "source": [
    "**<font color = green size=3>2):聚类</font>**"
   ]
  },
  {
   "cell_type": "code",
   "execution_count": 11,
   "id": "fd7abe3b",
   "metadata": {},
   "outputs": [],
   "source": [
    "# x = np.array([1,2,3])\n",
    "# y=np.array([8,3,3])\n",
    "# a=(x-y)**2\n",
    "# t=np.sum(a)\n",
    "# math.sqrt(t)"
   ]
  },
  {
   "cell_type": "markdown",
   "id": "22957bb3",
   "metadata": {},
   "source": [
    "由于降维实验任务中降维后的维数符号为k，而聚类实验中聚类数目的符号也为k，为了区别，我们将聚类实验中聚类数目的符号改为$k_c$"
   ]
  },
  {
   "cell_type": "markdown",
   "id": "463cffa1",
   "metadata": {},
   "source": [
    "<span style=\"color:purple\">1.首先编写计算衡量样本间的相似度的距离，这里列举两种距离公式.</span>\n",
    "    \n",
    "<span style=\"color:purple\">a.曼哈顿距离计算公式:  \n",
    "    对于两个d维的样本$x_i$,$x_j$,他们的曼哈顿距离计算公式为:  \n",
    "    $$dist_{man}(x_i,x_j)=\\sum_{u=1}^d |x_{iu}-x_{ju}|$$\n",
    "其中$x_{iu}$和$x_{ju}$分别为样本$x_i$和$x_j$的第u维特征值</span>\n",
    "\n",
    "<span style=\"color:purple\">b.欧式距离计算公式:  \n",
    "    对于两个d维的样本$x_i$,$x_j$,他们的欧式距离计算公式为:  \n",
    "    $$dist_{ed}(x_i,x_j)=\\sqrt{\\sum_{u=1}^d (x_{iu}-x_{ju})^2}$$\n",
    "其中$x_{iu}$和$x_{ju}$分别为样本$x_i$和$x_j$的第u维特征值</span>"
   ]
  },
  {
   "cell_type": "code",
   "execution_count": 12,
   "id": "3481ab94",
   "metadata": {},
   "outputs": [],
   "source": [
    "#这里选取了欧式距离\n",
    "\n",
    "def dis(x,y):\n",
    "    \n",
    "    total = np.sum((x-y)**2)\n",
    "    dist = math.sqrt(total)  \n",
    "    return dist\n"
   ]
  },
  {
   "cell_type": "markdown",
   "id": "863deba2",
   "metadata": {},
   "source": [
    "<span style=\"color:purple\">2.确定聚类簇数$k_{c}$，然后从前面所得到的降维数据集Y中随机选取$k_{c}$个样本作为初始均值向量$\\{\\mu_1,\\mu_2,...,\\mu_{k_{c}}\\}$</span>\n"
   ]
  },
  {
   "cell_type": "code",
   "execution_count": 25,
   "id": "f8f350f0",
   "metadata": {},
   "outputs": [
    {
     "name": "stdout",
     "output_type": "stream",
     "text": [
      "2802442928576\n",
      "2802442928576\n"
     ]
    }
   ],
   "source": [
    "kc =6#########################################\n",
    "\n",
    "\n",
    "B = Y[:,np.random.choice(Y.shape[1],kc,replace=False)]\n",
    "B\n",
    "B.shape\n",
    "# t=B\n",
    "# print(id(t))\n",
    "# print(id(B))\n"
   ]
  },
  {
   "cell_type": "code",
   "execution_count": 20,
   "id": "ece76f8d",
   "metadata": {},
   "outputs": [],
   "source": [
    "# C = [[],[],[]]\n",
    "# C[0].append(Y[:,0])\n",
    "# C[0].append(Y[:,1])\n",
    "# print(Y[:,0])\n",
    "# print(Y[:,1])\n",
    "# C[0]= np.array(C[0])\n",
    "# np.sum(C[0],axis=0)/len(C[0])\n",
    "# A = []\n",
    "# A=C\n",
    "# A"
   ]
  },
  {
   "cell_type": "code",
   "execution_count": 21,
   "id": "e4824547",
   "metadata": {},
   "outputs": [
    {
     "data": {
      "text/plain": [
       "array([[0., 0., 0.],\n",
       "       [0., 0., 0.]])"
      ]
     },
     "execution_count": 21,
     "metadata": {},
     "output_type": "execute_result"
    }
   ],
   "source": [
    "np.zeros((2,3))\n",
    "# plt.scatter(Y[0,:],Y[1,:])\n",
    "# plt.show()"
   ]
  },
  {
   "cell_type": "markdown",
   "id": "1ecf8517",
   "metadata": {},
   "source": [
    "<span style=\"color:purple\">3.开始进行迭代。每一轮更新均值向量，直到均值向量不再变化则停止迭代</span>"
   ]
  },
  {
   "cell_type": "markdown",
   "id": "5b133f63",
   "metadata": {},
   "source": [
    "<span style=\"color:purple\">迭代步骤1).遍历每个样本$x_j$,计算其与当前的各个均值向量$\\mu_i$的距离$d_{ji}$，比较与每个均值向量的距离大小，\n",
    "   $$\\lambda_j=arg min_{i \\in \\{1,2,...,k_{c}\\}}d_{ji}$$ \n",
    "    将其划入与其距离最近的簇中。\n",
    "$$C_{\\lambda_j}=C_{\\lambda_j}\\bigcup{x_j}$$</span>\n",
    "<span style=\"color:purple\">迭代步骤2).将所有样本划分完成生成$k_{c}$个簇$\\{C_1,C_2,...,C_{k_{c}}\\}$。对于每个簇$C_i$，计算该簇的新均值向量，公式为:\n",
    "$$\\mu_i^{'}=\\frac{1}{|C_i|}\\sum_{x \\in C_i}x$$</span>\n",
    "<span style=\"color:purple\">迭代步骤3).将更新的均值向量$\\{\\mu_1^{'},\\mu_2^{'},...,\\mu_{k_{c}}^{'}\\}$与该轮未更新前的均值向量$\\{\\mu_1,\\mu_2,...,\\mu_{k_{c}}\\}$进行比较.  如果完全一样，则结束迭代；如果不一样，则继续迭代.</span>"
   ]
  },
  {
   "cell_type": "code",
   "execution_count": 22,
   "id": "75e99de9",
   "metadata": {},
   "outputs": [
    {
     "name": "stdout",
     "output_type": "stream",
     "text": [
      "9\n"
     ]
    }
   ],
   "source": [
    "\n",
    "\n",
    "cluster = []\n",
    "time = 0\n",
    "\n",
    "while True:\n",
    "    C = []\n",
    "    for i in range(kc):\n",
    "        C.append([])\n",
    "    for i in range(Y.shape[1]):\n",
    "        tem = 100000000\n",
    "        temj =-1\n",
    "        for j in range(B.shape[1]):\n",
    "             if dis(Y[:,i],B[:,j])<tem:\n",
    "                    tem = dis(Y[:,i],B[:,j])\n",
    "                    temj=j\n",
    "        C[temj].append(Y[:,i])\n",
    "    for i in range(kc):\n",
    "        C[i]=np.array(C[i])\n",
    "    t = np.zeros((2,kc))\n",
    "\n",
    "    for i in range(kc):\n",
    "        t[:,i]=np.sum(C[i],axis=0)/len(C[i])\n",
    "\n",
    "    time += 1\n",
    "    if (t==B).all():\n",
    "        cluster = C\n",
    "        break\n",
    "    B=t\n",
    "    \n",
    "print(time)                "
   ]
  },
  {
   "cell_type": "markdown",
   "id": "abfef545",
   "metadata": {},
   "source": [
    "<span style=\"color:purple\">4.判断是否有空簇，返回所有非空的簇</span>"
   ]
  },
  {
   "cell_type": "code",
   "execution_count": 23,
   "id": "f1c36f4c",
   "metadata": {},
   "outputs": [],
   "source": [
    "for i in range(kc):\n",
    "    if len(cluster[i])==0:\n",
    "        del cluster[i]\n"
   ]
  },
  {
   "cell_type": "code",
   "execution_count": null,
   "id": "2f76de98",
   "metadata": {},
   "outputs": [],
   "source": []
  },
  {
   "cell_type": "markdown",
   "id": "2415dff9",
   "metadata": {},
   "source": [
    "<span style=\"color:purple\">5.请从降维的属性值选择其中两个作为绘图的横纵坐标，将所有样本绘制到一张图中，其中同一聚类的样本点绘制为相同颜色</span>"
   ]
  },
  {
   "cell_type": "code",
   "execution_count": 24,
   "id": "89916414",
   "metadata": {},
   "outputs": [
    {
     "data": {
      "image/png": "[encoded data removed]",
      "text/plain": [
       "<Figure size 432x288 with 1 Axes>"
      ]
     },
     "metadata": {
      "needs_background": "light"
     },
     "output_type": "display_data"
    }
   ],
   "source": [
    "for i in range(len(cluster)):\n",
    "    plt.scatter(cluster[i][:,0],cluster[i][:,1])\n",
    "    \n",
    "plt.show()\n",
    "# print(cluster)\n",
    "# print(len(cluster))"
   ]
  },
  {
   "cell_type": "markdown",
   "id": "e78994f9",
   "metadata": {},
   "source": [
    "**<font color = blue size=4>第三部分:作业提交</font>**"
   ]
  },
  {
   "cell_type": "markdown",
   "id": "9269769e",
   "metadata": {},
   "source": [
    "一、实验课下课前提交完成代码，如果下课前未完成，请将已经完成的部分进行提交，未完成的部分于之后的实验报告中进行补充  \n",
    "要求:  \n",
    "1)文件格式为：学号-姓名.ipynb  \n",
    "2)【不要】提交文件夹、压缩包、数据集等无关文件，只需提交单个ipynb文件即可，如果交错请到讲台前联系助教，删掉之前的错误版本后再进行提交"
   ]
  },
  {
   "cell_type": "markdown",
   "id": "32e28655",
   "metadata": {},
   "source": [
    "二、因为下周为考试周，本次实验报告下下周（4月29号前）交  \n",
    "要求：  \n",
    "1)文件格式为：学号-姓名.pdf  \n",
    "2)【不要】提交文件夹、压缩包、代码文件、数据集等任何与实验报告无关的文件，只需要提交单个pdf文件即可  \n",
    "3)文件命名时不需要额外添加“实验几”等额外信息，按照格式提交  \n",
    "4)每周的实验报告提交地址会变化，且有时间限制，提交时间为下周的实验课开始时，请注意及时提交。"
   ]
  },
  {
   "cell_type": "markdown",
   "id": "ee6a5280",
   "metadata": {},
   "source": [
    "实验六(降维和聚类)的实验报告:  \n",
    "截止时间：2022-04-29 10:10  \n",
    "提交地址：https://workspace.jianguoyun.com/inbox/collect/ca2e57db0307478f99e50dbf0f8b3cb6/submit"
   ]
  },
  {
   "cell_type": "markdown",
   "id": "3bf2f895",
   "metadata": {},
   "source": [
    "三、课堂课件获取地址:https://www.jianguoyun.com/p/DQlpUFYQp5WhChiS_q0E  \n",
    "实验内容获取地址:https://www.jianguoyun.com/p/DbKbP-AQp5WhChi1sa0E"
   ]
  }
 ],
 "metadata": {
  "kernelspec": {
   "display_name": "Python 3 (ipykernel)",
   "language": "python",
   "name": "python3"
  },
  "language_info": {
   "codemirror_mode": {
    "name": "ipython",
    "version": 3
   },
   "file_extension": ".py",
   "mimetype": "text/x-python",
   "name": "python",
   "nbconvert_exporter": "python",
   "pygments_lexer": "ipython3",
   "version": "3.8.12"
  }
 },
 "nbformat": 4,
 "nbformat_minor": 5
}
