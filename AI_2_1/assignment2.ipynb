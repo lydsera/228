{
 "cells": [
  {
   "cell_type": "markdown",
   "id": "ebd4880c",
   "metadata": {},
   "source": [
    "# 线性回归（一）"
   ]
  },
  {
   "cell_type": "code",
   "execution_count": 7,
   "id": "ae754e29",
   "metadata": {},
   "outputs": [],
   "source": [
    "import pandas as pd\n",
    "import numpy as np\n",
    "import matplotlib.pyplot as plt"
   ]
  },
  {
   "cell_type": "markdown",
   "id": "e0bca5fe",
   "metadata": {},
   "source": [
    "<span style=\"color:purple\">0) 介绍一些可能用到的numpy库的函数。</span>"
   ]
  },
  {
   "cell_type": "code",
   "execution_count": 2,
   "id": "9191a3b2",
   "metadata": {},
   "outputs": [
    {
     "name": "stdout",
     "output_type": "stream",
     "text": [
      "A:\n",
      " [[1 2 3]\n",
      " [4 5 6]] \n",
      "\n",
      "B:\n",
      " [[1. 1.]\n",
      " [1. 1.]\n",
      " [1. 1.]] \n",
      "\n",
      "C:\n",
      " [[0. 0.]\n",
      " [0. 0.]\n",
      " [0. 0.]] \n",
      "\n"
     ]
    }
   ],
   "source": [
    "#一些可能用到的numpy库的函数\n",
    "\n",
    "#创建numpy矩阵\n",
    "A = np.array([[1, 2, 3],[4, 5, 6]]) #创建矩阵\n",
    "B = np.ones((3, 2)) #创建全1矩阵\n",
    "C = np.zeros((3, 2)) #创建全0矩阵\n",
    "print('A:\\n',A,'\\n')\n",
    "print('B:\\n',B,'\\n')\n",
    "print('C:\\n',C,'\\n')"
   ]
  },
  {
   "cell_type": "code",
   "execution_count": 3,
   "id": "1d76c808",
   "metadata": {},
   "outputs": [
    {
     "name": "stdout",
     "output_type": "stream",
     "text": [
      "D:\n",
      " [[1 0 0 0]\n",
      " [0 2 0 0]\n",
      " [0 0 3 0]\n",
      " [0 0 0 4]] \n",
      "\n",
      "[[0 0]\n",
      " [2 0]] \n",
      "\n",
      "[[0]\n",
      " [0]\n",
      " [3]\n",
      " [0]] \n",
      "\n"
     ]
    }
   ],
   "source": [
    "#提取矩阵的某几行和某几列\n",
    "D = np.array([[1, 0, 0, 0],[0, 2, 0, 0],[0, 0, 3, 0],[0, 0, 0, 4]])\n",
    "print('D:\\n',D,'\\n')\n",
    "print(D[0:2, 1:3],'\\n') #提取矩阵的0-1行、1-2列的元素，返回一个2×2的矩阵\n",
    "print(D[:, 2:3],'\\n') #提取第2列上的所有元素，返回一个4×1的矩阵"
   ]
  },
  {
   "cell_type": "code",
   "execution_count": 4,
   "id": "7153b681",
   "metadata": {},
   "outputs": [
    {
     "name": "stdout",
     "output_type": "stream",
     "text": [
      "E:\n",
      " [[3 2 1]\n",
      " [6 8 3]] \n",
      "\n",
      "The transpose of E:\n",
      " [[3 6]\n",
      " [2 8]\n",
      " [1 3]] \n",
      "\n"
     ]
    }
   ],
   "source": [
    "#矩阵的转置\n",
    "E = np.array([[3,2,1],[6,8,3]])\n",
    "print('E:\\n',E,'\\n')\n",
    "print('The transpose of E:\\n',E.T,'\\n')"
   ]
  },
  {
   "cell_type": "code",
   "execution_count": 5,
   "id": "586afbcc",
   "metadata": {},
   "outputs": [
    {
     "name": "stdout",
     "output_type": "stream",
     "text": [
      "F:\n",
      " [[0 1 1]\n",
      " [4 2 3]] \n",
      "\n",
      "G:\n",
      " [[0 8 1]\n",
      " [4 4 4]] \n",
      "\n",
      "F + G:\n",
      " [[0 9 2]\n",
      " [8 6 7]] \n",
      "\n",
      "F - G:\n",
      " [[ 0 -7  0]\n",
      " [ 0 -2 -1]] \n",
      "\n",
      "F * G:\n",
      " [[ 0  8  1]\n",
      " [16  8 12]] \n",
      "\n"
     ]
    }
   ],
   "source": [
    "#矩阵的加/减/星乘(要求两个矩阵的行数相同、列数也相同)\n",
    "F = np.array([[0,1,1],[4,2,3]])\n",
    "G = np.array([[0,8,1],[4,4,4]])\n",
    "print('F:\\n',F,'\\n')\n",
    "print('G:\\n',G,'\\n')\n",
    "print('F + G:\\n',F + G,'\\n')\n",
    "print('F - G:\\n',F - G,'\\n')\n",
    "print('F * G:\\n',F * G,'\\n') #对应位置相乘"
   ]
  },
  {
   "cell_type": "code",
   "execution_count": 6,
   "id": "860912cb",
   "metadata": {},
   "outputs": [
    {
     "name": "stdout",
     "output_type": "stream",
     "text": [
      "H:\n",
      " [[2 1 1]\n",
      " [9 2 3]] \n",
      "\n",
      "I:\n",
      " [[0 8]\n",
      " [4 4]\n",
      " [5 5]] \n",
      "\n",
      "H.dot(I):\n",
      " [[ 9 25]\n",
      " [23 95]] \n",
      "\n"
     ]
    }
   ],
   "source": [
    "#矩阵点乘(注意前一个矩阵的列数要等于后一个矩阵的行数才能进行点乘)\n",
    "H = np.array([[2,1,1],[9,2,3]])\n",
    "I = np.array([[0,8],[4,4],[5,5]])\n",
    "print('H:\\n',H,'\\n')\n",
    "print('I:\\n',I,'\\n')\n",
    "print('H.dot(I):\\n',H.dot(I),'\\n')\n"
   ]
  },
  {
   "cell_type": "code",
   "execution_count": 7,
   "id": "fd64c3f4",
   "metadata": {},
   "outputs": [
    {
     "name": "stdout",
     "output_type": "stream",
     "text": [
      "J:\n",
      " [[1 0 0]\n",
      " [0 2 0]\n",
      " [0 0 3]] \n",
      "\n",
      "The inverse of J:\n",
      " [[1.         0.         0.        ]\n",
      " [0.         0.5        0.        ]\n",
      " [0.         0.         0.33333333]] \n",
      "\n"
     ]
    }
   ],
   "source": [
    "#矩阵(非奇异方阵)的求逆\n",
    "J = np.array([[1, 0, 0],[0, 2, 0],[0, 0, 3]])\n",
    "print('J:\\n',J,'\\n')\n",
    "print('The inverse of J:\\n',np.linalg.inv(J),'\\n')\n"
   ]
  },
  {
   "cell_type": "code",
   "execution_count": 8,
   "id": "10bf30ba",
   "metadata": {},
   "outputs": [
    {
     "name": "stdout",
     "output_type": "stream",
     "text": [
      "K:\n",
      " [[1 2 3]\n",
      " [4 5 6]] \n",
      "\n",
      "L:\n",
      " [[ 7  8  9]\n",
      " [10 11 12]] \n",
      "\n",
      "\n",
      " [[ 1  2  3]\n",
      " [ 4  5  6]\n",
      " [ 7  8  9]\n",
      " [10 11 12]] \n",
      "\n",
      "\n",
      " [[ 1  2  3  7  8  9]\n",
      " [ 4  5  6 10 11 12]] \n",
      "\n"
     ]
    }
   ],
   "source": [
    "#矩阵的拼接\n",
    "K = np.array([[1, 2, 3], [4, 5, 6]])\n",
    "L = np.array([[7, 8, 9], [10, 11, 12]])\n",
    "print('K:\\n',K,'\\n')\n",
    "print('L:\\n',L,'\\n')\n",
    "print('\\n',np.r_[K, L],'\\n') #上下拼接\n",
    "print('\\n',np.c_[K, L],'\\n') #左右拼接"
   ]
  },
  {
   "cell_type": "code",
   "execution_count": 9,
   "id": "7f7c6287",
   "metadata": {},
   "outputs": [
    {
     "name": "stdout",
     "output_type": "stream",
     "text": [
      "M:\n",
      " [[5 0 2]\n",
      " [3 5 8]] \n",
      "\n",
      "The sum of M:\n",
      " 23 \n",
      "\n"
     ]
    }
   ],
   "source": [
    "#矩阵的求和\n",
    "M = np.array([[5,0,2],[3,5,8]])\n",
    "print('M:\\n',M,'\\n')\n",
    "print('The sum of M:\\n',np.sum(M),'\\n')"
   ]
  },
  {
   "cell_type": "markdown",
   "id": "ad395595",
   "metadata": {},
   "source": [
    "<span style=\"color:purple\">1) 使用pandas库的read_csv()函数(可以参考[pandas的官方文档](https://pandas.pydata.org/docs/reference/api/pandas.read_csv.html))将训练数据集'train.csv'和测试数据集'test.csv'载入到Dataframe对象中。</span>"
   ]
  },
  {
   "cell_type": "code",
   "execution_count": 2,
   "id": "07c0ed4a",
   "metadata": {},
   "outputs": [],
   "source": [
    "# Your code here\n",
    "\n",
    "#读取数据集\n",
    "train_frame = pd.read_csv('train.csv')\n",
    "test_frame = pd.read_csv('test.csv')\n",
    "\n",
    "#转化成numpy矩阵\n",
    "train = np.array(train_frame)\n",
    "test = np.array(test_frame)\n",
    "\n",
    "#train,test"
   ]
  },
  {
   "cell_type": "markdown",
   "id": "fe1bd02c",
   "metadata": {},
   "source": [
    "<span style=\"color:purple\">2) 假设模型为一元线性回归模型$\\hat{y}=wx+b$, 损失函数为$l(w,b)=\\frac{1}{2}\\sum_{i=1}^m(\\hat{y}^{(i)}-y^{(i)})^2$, 其中$\\hat{y}^{(i)}$表示第$i$个样本的预测值，$y^{(i)}$表示第$i$个样本的实际标签值, $m$为训练集中样本的个数。求出使得损失函数最小化的参数$w$和$b$。</span>"
   ]
  },
  {
   "cell_type": "markdown",
   "id": "a33f9641",
   "metadata": {},
   "source": [
    "方法① \n",
    "\n",
    "将$l(w,b)$分别对$w$和$b$求导，得到\n",
    "$$\n",
    "\\frac{\\partial l(w,b)}{\\partial w}=w\\sum_{i=1}^m x_i^2 -\\sum_{i=1}^m (y_i-b)x_i,\n",
    "$$\n",
    "$$\n",
    "\\frac{\\partial l(w,b)}{\\partial b}=mb -\\sum_{i=1}^m (y_i-wx_i),\n",
    "$$\n",
    "令上述两式为零即可得到$w$和$b$的解析解：\n",
    "$$\n",
    "w=\\frac{\\sum_{i=1}^m y_i (x_i-\\bar{x})}{\\sum_{i=1}^m x_i^2-\\frac{1}{m}(\\sum_{i=1}^m x_i)^2},\n",
    "$$\n",
    "$$\n",
    "b=\\frac{1}{m}\\sum_{i=1}^m(y_i-wx_i),\n",
    "$$\n",
    "其中$\\bar{x}=\\frac{1}{m}\\sum_{i=1}^m x_i$为$x$的均值。\n",
    "\n"
   ]
  },
  {
   "cell_type": "code",
   "execution_count": 16,
   "id": "fd4fc151",
   "metadata": {},
   "outputs": [],
   "source": [
    "# Your code here\n",
    "x=train[:,0]\n",
    "y=train[:,1]\n",
    "x_tem=x-x.mean()\n",
    "x_2=x**2\n",
    "x_sum=np.sum(x)\n",
    "x_2sum=np.sum(x_2)\n",
    "w=np.sum(y*x_tem)/(x_2sum-x_sum**2/len(x))\n",
    "b=np.sum(y-w*x)/len(x)\n",
    "\n"
   ]
  },
  {
   "cell_type": "markdown",
   "id": "8372dfca",
   "metadata": {},
   "source": [
    "方法② 梯度下降法。"
   ]
  },
  {
   "cell_type": "markdown",
   "id": "55e01a78",
   "metadata": {},
   "source": [
    "方法③ \n",
    "\n",
    "用矩阵表示，假设数据集有$m$个样本，特征有$n$维$。X=\\left[ \\begin{matrix} x_{11} & x_{12} & \\cdots & x_{1n} & 1 \\\\\n",
    "                         x_{21} & x_{22} & \\cdots & x_{2n} & 1 \\\\\n",
    "                         \\vdots & \\vdots &      & \\vdots & \\vdots \\\\\n",
    "                         x_{m1} & x_{m2} & \\cdots & x_{mn} & 1 \\end{matrix} \\right]$,\n",
    "        实际标签$Y=\\left[ \\begin{matrix} y_{1} \\\\\n",
    "                         y_{2} \\\\\n",
    "                         \\vdots \\\\\n",
    "                         y_{m}\\end{matrix} \\right]$,\n",
    "        参数$B=\\left[ \\begin{matrix} w_{1} \\\\\n",
    "                         w_{2} \\\\\n",
    "                         \\vdots \\\\\n",
    "                         w_{n} \\\\\n",
    "                         b\\end{matrix} \\right]$，则解析解为$B^*=(X^T X)^{-1}X^T Y$。推导过程可参考[这篇文章](https://zhuanlan.zhihu.com/p/74157986)。"
   ]
  },
  {
   "cell_type": "code",
   "execution_count": 5,
   "id": "d552ca42",
   "metadata": {},
   "outputs": [],
   "source": [
    "# Your code here\n",
    "X=train[:,0]\n",
    "tem=np.ones(len(X))\n",
    "X=np.c_[X,tem]\n",
    "Y=train[:,1]\n",
    "X_T=X.T\n",
    "B1=np.linalg.inv(X_T.dot(X))\n",
    "B2=X_T.dot(Y)\n",
    "B=B1.dot(B2)"
   ]
  },
  {
   "cell_type": "markdown",
   "id": "2f60caa0",
   "metadata": {},
   "source": [
    "<span style=\"color:purple\">3) 使用求解出来的线性回归模型对测试数据集'test.csv'进行预测，输出可视化结果（比如用seaborn或者matplotlib等可视化库来画出测试数据的散点图以及训练好的模型函数图像）。</span>"
   ]
  },
  {
   "cell_type": "code",
   "execution_count": 20,
   "id": "830710af",
   "metadata": {},
   "outputs": [
    {
     "data": {
      "image/png": "[encoded data removed]",
      "text/plain": [
       "<Figure size 432x288 with 1 Axes>"
      ]
     },
     "metadata": {
      "needs_background": "light"
     },
     "output_type": "display_data"
    }
   ],
   "source": [
    "# Your code here\n",
    "#A=np.array([[1,2,3],[4,5,6],[7,8,9]])\n",
    "#x = A[0, :] #从一个矩阵中提取出一行作为一个向量\n",
    "#y1 = np.array([2, 3, 5])\n",
    "#plt.plot(x, y1) #画出折线图\n",
    "#y2 = np.array([2.5, 2.8, 5.3])\n",
    "#plt.plot(x, y2, '.') #画出散点图\n",
    "#plt.show()\n",
    "x_test=test[:,0]\n",
    "y_test=test[:,1]\n",
    "y_fore=w*x_test+b\n",
    "plt.plot(x_test,y_fore)\n",
    "plt.plot(x_test,y_test,'.')\n",
    "plt.show()"
   ]
  },
  {
   "cell_type": "markdown",
   "id": "6a8135ea",
   "metadata": {},
   "source": [
    "<span style=\"color:purple\">4) 在训练数据集'train2.csv'上求一个三元线性回归模型$\\hat{y}=w_1 x_1 + w_2 x_2 + w_3 x_3 + b$的使得损失函数$l(w_1,w_2,w_3,b)=\\frac{1}{2}\\sum_{i=1}^m(\\hat{y}^{(i)}-y^{(i)})^2$最小的参数$w_1,w_2,w_3$以及$b$。并在测试数据集'test2.csv'上进行预测，输出预测结果的均方误差$MSE(\\hat{y},y)=\\frac{1}{n}\\sum^n_{i=1}(y^{(i)}-\\hat{y}^{(i)})^2$, $n$为测试集中样本个数。</span>"
   ]
  },
  {
   "cell_type": "markdown",
   "id": "2ffbf288",
   "metadata": {},
   "source": [
    "方法① 同2)中的方法③。"
   ]
  },
  {
   "cell_type": "code",
   "execution_count": 6,
   "id": "1a6db350",
   "metadata": {},
   "outputs": [],
   "source": [
    "train_frame2 = pd.read_csv('train2.csv')\n",
    "test_frame2 = pd.read_csv('test2.csv')\n",
    "\n",
    "\n",
    "train2 = np.array(train_frame2)\n",
    "test2 = np.array(test_frame2)"
   ]
  },
  {
   "cell_type": "code",
   "execution_count": 11,
   "id": "21498e5e",
   "metadata": {},
   "outputs": [
    {
     "name": "stdout",
     "output_type": "stream",
     "text": [
      "0.1653769112895277\n"
     ]
    },
    {
     "data": {
      "text/plain": [
       "array([17.07849006, 25.25652216, 14.64067789, 14.44507246, 22.23934091,\n",
       "       27.74785241, 28.33844735, 28.46399336, 31.7631642 , 12.6567351 ,\n",
       "       16.68427426, 28.98494171, 14.76765878, 22.31611784, 11.5829012 ,\n",
       "       25.38587601, 26.77910839, 25.45513489, 15.74162917, 18.97715381,\n",
       "       16.37159299, 17.05247562, 21.28019597, 23.87259121, 22.25092339,\n",
       "       16.81128158, 29.34148848, 26.3943862 , 12.42412934, 24.55103391,\n",
       "       16.84732392, 18.46658344, 22.6422135 , 10.98359114, 28.14896566,\n",
       "       21.3815645 , 22.91477009, 18.10704587, 23.71676355, 21.73675077])"
      ]
     },
     "execution_count": 11,
     "metadata": {},
     "output_type": "execute_result"
    }
   ],
   "source": [
    "# Your code here\n",
    "\n",
    "\n",
    "X2=train2[:,0:3]\n",
    "tem2=np.ones(160)\n",
    "X2=np.c_[X2,tem2]\n",
    "Y2=train2[:,3]\n",
    "X2_T=X2.T\n",
    "B1=np.linalg.inv(X2_T.dot(X2))\n",
    "B2=X2_T.dot(Y2)\n",
    "B=B1.dot(B2)\n",
    "X2_test=test2[:,0:3]\n",
    "tem2=np.ones(40)\n",
    "X2_test=np.c_[X2_test,tem2]\n",
    "Y2_fore=X2_test.dot(B)\n",
    "Y2_test=test2[:,3]\n",
    "Y_tem=Y2_test-Y2_fore\n",
    "Y2_2=Y_tem**2\n",
    "MS=np.sum(Y2_2)/len(Y2_test)\n",
    "print(MS)\n",
    "Y2_fore"
   ]
  },
  {
   "cell_type": "markdown",
   "id": "b900c97a",
   "metadata": {},
   "source": [
    "方法② 梯度下降法。(暂时不用实现)"
   ]
  }
 ],
 "metadata": {
  "kernelspec": {
   "display_name": "Python 3 (ipykernel)",
   "language": "python",
   "name": "python3"
  },
  "language_info": {
   "codemirror_mode": {
    "name": "ipython",
    "version": 3
   },
   "file_extension": ".py",
   "mimetype": "text/x-python",
   "name": "python",
   "nbconvert_exporter": "python",
   "pygments_lexer": "ipython3",
   "version": "3.8.12"
  }
 },
 "nbformat": 4,
 "nbformat_minor": 5
}
