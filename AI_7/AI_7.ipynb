{
 "cells": [
  {
   "cell_type": "markdown",
   "id": "dcc9ef1a",
   "metadata": {},
   "source": [
    "**<font color = black size=6>实验七:贝叶斯分布</font>**"
   ]
  },
  {
   "cell_type": "code",
   "execution_count": 15,
   "id": "ef6f7c39",
   "metadata": {},
   "outputs": [],
   "source": [
    "from collections import Counter\n",
    "import numpy as np\n",
    "import pandas as pd\n",
    "import matplotlib.pyplot as plt\n",
    "import math"
   ]
  },
  {
   "cell_type": "markdown",
   "id": "83ab07c9",
   "metadata": {},
   "source": [
    "**<font color = blue size=4>第一部分:实验任务</font>**"
   ]
  },
  {
   "cell_type": "markdown",
   "id": "76a0aa2c",
   "metadata": {},
   "source": [
    "1.朴素贝叶斯"
   ]
  },
  {
   "cell_type": "markdown",
   "id": "5365ec76",
   "metadata": {},
   "source": [
    "<span style=\"color:purple\">该数据集(train_mushroom.csv)为分类数据集，为蘑菇的特征信息以及是否有毒。包括了13个属性值以及一个类别属性(即为label类型,代表是否有毒)</span>"
   ]
  },
  {
   "cell_type": "markdown",
   "id": "ba6819a7",
   "metadata": {},
   "source": [
    "<span style=\"color:purple\">1) 将训练数据集'train_mushroom.csv'和'test_mushroom.csv'载入并转换为你需要的格式</span>"
   ]
  },
  {
   "cell_type": "code",
   "execution_count": 16,
   "id": "8474772f",
   "metadata": {},
   "outputs": [
    {
     "data": {
      "text/plain": [
       "'s'"
      ]
     },
     "execution_count": 16,
     "metadata": {},
     "output_type": "execute_result"
    }
   ],
   "source": [
    "train_frame = pd.read_csv('train_mushroom.csv')\n",
    "test_frame = pd.read_csv('test_mushroom.csv')\n",
    "train = np.array(train_frame)\n",
    "test = np.array(test_frame)\n",
    "train_frame['cap-shape'][0]"
   ]
  },
  {
   "cell_type": "markdown",
   "id": "7ea73a75",
   "metadata": {},
   "source": [
    "<span style=\"color:purple\">2) 计算每个标记y对应的先验概率P(y)\n",
    "$$P(y)=\\frac{|D_y|}{|D|}$$\n",
    "    其中$D_y$为标记为y的样本集合；$|D_y|$为标记为y的集合的样本个数；D为所有样本集合；|D|为所有样本个数\n",
    "\n",
    "</span>"
   ]
  },
  {
   "cell_type": "code",
   "execution_count": 17,
   "id": "8f26968d",
   "metadata": {},
   "outputs": [],
   "source": [
    "#计算先验概率\n",
    "counter = Counter(train[:,train.shape[1]-1])\n",
    "a=np.unique(train[:,train.shape[1]-1])\n",
    "py1=counter['p']/len(train)\n",
    "py2=counter['e']/len(train)\n"
   ]
  },
  {
   "cell_type": "markdown",
   "id": "24730295",
   "metadata": {},
   "source": [
    "<span style=\"color:purple\">3) 计算数据集中的每个属性的非重复属性值$x_i$对应标记y的条件概率$P(x_i│y)$,\n",
    "    $$P(x_i│y)=\\frac{|D_{x_i,y}|}{|D_y|}$$\n",
    "$D_{x_i,y}$为标记为y，属性为$x_i$的样本集合；$|D_{x_i,y}|$为该样本个数\n",
    "</span>"
   ]
  },
  {
   "cell_type": "code",
   "execution_count": 18,
   "id": "752e4961",
   "metadata": {},
   "outputs": [],
   "source": [
    "#首先操作数据集D，遍历D中的每个属性，将数据集中每个属性的非重复值取出\n",
    "p1=[]\n",
    "p2=[]\n",
    "for i in range(train.shape[1]-1):\n",
    "    counter1 = Counter(train[:,i])\n",
    "    a1=np.unique(train[:,i])\n",
    "    ptem1=[]\n",
    "    ptem2=[]\n",
    "    for j in range(len(a1)):\n",
    "        \n",
    "        ptem11=0\n",
    "        ptem22=0\n",
    "        for k in range(len(train)):\n",
    "            if train[k,i]==a1[j]:\n",
    "                if train[k,train.shape[1]-1]=='p':\n",
    "#                     print(\"hello\")\n",
    "                    ptem11+=1\n",
    "                else:\n",
    "                    ptem22+=1\n",
    "            else:\n",
    "                continue\n",
    "#         print(ptem11)\n",
    "#         print(ptem22)\n",
    "        ptem1.append(ptem11/counter['p'])\n",
    "        ptem2.append(ptem22/counter['e'])\n",
    "#     print(np.array(ptem1).reshape(1,len(ptem1)).shape)\n",
    "    df1 = pd.DataFrame(np.array(ptem1).reshape(1,len(ptem1)), columns=list(a1))\n",
    "    df2 = pd.DataFrame(np.array(ptem2).reshape(1,len(ptem2)), columns=list(a1))\n",
    "    p1.append(df1)\n",
    "    p2.append(df2)\n",
    "# print(float(p2[1]['y']))\n",
    "\n",
    "#将所有标记相同的数据集取出分为若干数据集\n",
    "\n",
    "#现以标记为p的数据集Dp为例子，依次对Dp的每个属性值进行遍历，以属性cap-shape为例子介绍，Dp中cap-shape的非重复值集合\n",
    "#为['b' 'c' 'f' 'k' 's' 'x' 'y']，\n",
    "#计算数据集中D0中属性值分别为0和1的条件概率P（cap-shape='b'|label='p'）,...,P（cap-shape='y'|label='p'），\n",
    "#上述对cap-shape属性操作完成后，按照同样的步骤对Dp中的剩余12个属性进行同样的操作\n",
    "\n",
    "\n",
    "\n",
    "#得到数据集Dp中条件概率集合后，以同样的操作对剩余数据集进行操作\n"
   ]
  },
  {
   "cell_type": "markdown",
   "id": "920340f7",
   "metadata": {},
   "source": [
    "<span style=\"color:purple\">4) 编写函数，给定样本a后以及标记y后计算其后验概率    \n",
    "    输入：样本a，标记y  \n",
    "    输出：样本a对应标记y的后验概率  \n",
    "    计算后验概率公式:\n",
    "$P(y)\\prod_{i=1}^{d}P(x_i|y)$   \n",
    "    \n",
    "<span style=\"color:purple\">例:  \n",
    "    输入:[k,y,n,f,s,c,n,b,o,e,w,v,d]\tp  \n",
    "    输出:P(label='p')$*$P(cap-shape='k'|label='p')$*...*$P(habitat='d'|label='p')</span>"
   ]
  },
  {
   "cell_type": "code",
   "execution_count": 19,
   "id": "703e4ffb",
   "metadata": {},
   "outputs": [],
   "source": [
    "def pro(a,index):\n",
    "    total=1\n",
    "#     print(len(p1))\n",
    "#     print(len(a))\n",
    "    if index=='p':\n",
    "        for i in range(len(a)):\n",
    "            \n",
    "            if(a[i] in p1[i]):\n",
    "                total*=float(p1[i][a[i]])\n",
    "            else:\n",
    "                total=0\n",
    "                break\n",
    "        total*=py1\n",
    "    if index=='e':\n",
    "        for i in range(len(a)):\n",
    "#             print(a[i])\n",
    "            if(a[i] in p1[i]):\n",
    "                total*=float(p2[i][a[i]])\n",
    "            else:\n",
    "                total=0\n",
    "                break\n",
    "        total*=py2\n",
    "    return total"
   ]
  },
  {
   "cell_type": "markdown",
   "id": "6e2f8294",
   "metadata": {},
   "source": [
    "<span style=\"color:purple\">5) 对测试集中的每个样本a，利用上个步骤所编写的函数分别所有可能的标记对应的后验概率，后验概率更大的对应标记即为预测标记，最后与测试集本身标记进行比较计算出准确率</span>"
   ]
  },
  {
   "cell_type": "code",
   "execution_count": 20,
   "id": "720ab16b",
   "metadata": {},
   "outputs": [
    {
     "data": {
      "text/plain": [
       "0.34"
      ]
     },
     "execution_count": 20,
     "metadata": {},
     "output_type": "execute_result"
    }
   ],
   "source": [
    "# len(train[0,:])\n",
    "yuce=[]\n",
    "number=0\n",
    "for i in range(len(test)):\n",
    "    if pro(test[i,0:test.shape[1]-1],'p')>pro(test[i,0:test.shape[1]-1],'e'):\n",
    "        yuce.append('p')\n",
    "        if test[i,test.shape[1]-1]=='p':\n",
    "            number+=1\n",
    "    else:\n",
    "        yuce.append('e')\n",
    "        if test[i,test.shape[1]-1]=='e':\n",
    "            number+=1\n",
    "# print(yuce)\n",
    "# print(train[:,13]==yuce)\n",
    "number/len(test)\n"
   ]
  },
  {
   "cell_type": "markdown",
   "id": "09d5da06",
   "metadata": {},
   "source": [
    "2.引入拉普拉斯平滑"
   ]
  },
  {
   "cell_type": "markdown",
   "id": "aaf951b2",
   "metadata": {},
   "source": [
    "<span style=\"color:purple\">1) 请首先判断是否有某个属性值和某个类没有在训练集中同时出现而使得条件概率为零。如果无，则无需进行下列实验；如果有，请在上个实验的基础上引入拉普拉斯平滑</span>"
   ]
  },
  {
   "cell_type": "code",
   "execution_count": 9,
   "id": "d03dbc02",
   "metadata": {},
   "outputs": [
    {
     "name": "stdout",
     "output_type": "stream",
     "text": [
      "有\n",
      "有\n",
      "有\n",
      "有\n",
      "有\n",
      "有\n",
      "有\n",
      "有\n",
      "有\n",
      "有\n",
      "有\n",
      "有\n",
      "有\n",
      "有\n",
      "有\n",
      "有\n",
      "有\n",
      "有\n",
      "有\n",
      "有\n",
      "有\n",
      "有\n",
      "有\n",
      "有\n",
      "有\n",
      "有\n",
      "有\n",
      "有\n",
      "有\n",
      "有\n"
     ]
    }
   ],
   "source": [
    "# print(p2[0])\n",
    "# for i in p2[0]:\n",
    "#     print(float(p2[0][i])==0)\n",
    "for i in range(len(p1)):\n",
    "    for j in p1[i]:\n",
    "        if(float(p1[i][j])==0):\n",
    "            print(\"有\")\n",
    "for i in range(len(p2)):\n",
    "    for j in p2[i]:\n",
    "        if(float(p2[i][j])==0):\n",
    "            print(\"有\")        "
   ]
  },
  {
   "cell_type": "markdown",
   "id": "164cf7b7",
   "metadata": {},
   "source": [
    "<span style=\"color:purple\">2) 引入拉普拉斯平滑后计算每个标记y对应的先验概率P(y)\n",
    "$$P(y)=\\frac{|D_y|+1}{|D|+N}$$\n",
    "    其中$D_y$为标记为y的样本集合；$|D_y|$为标记为y的集合的样本个数；D为所有样本集合；|D|为所有样本个数;N为标记取值的个数\n",
    "\n",
    "</span>"
   ]
  },
  {
   "cell_type": "code",
   "execution_count": 10,
   "id": "f34423cf",
   "metadata": {},
   "outputs": [],
   "source": [
    "#计算先验概率\n",
    "py1=(counter['p']+1)/(len(train)+2)\n",
    "py2=(counter['e']+1)/(len(train)+2)"
   ]
  },
  {
   "cell_type": "markdown",
   "id": "5fa57e6f",
   "metadata": {},
   "source": [
    "<span style=\"color:purple\">3) 计算数据集中的每个属性的非重复属性值$x_i$对应标记y的条件概率$P(x_i│y)$,\n",
    "    $$P(x_i│y)=\\frac{|D_{x_i,y}|+1}{|D_y|+N_i}$$\n",
    "$D_{x_i,y}$为标记为y，属性为$x_i$的样本集合；$|D_{x_i,y}|$为该样本个数;$N_i$为第i个属性取值的个数\n",
    "</span>"
   ]
  },
  {
   "cell_type": "code",
   "execution_count": 11,
   "id": "aa1d83cd",
   "metadata": {},
   "outputs": [],
   "source": [
    "#首先操作数据集D，遍历D中的每个属性，将数据集中每个属性的非重复值取出\n",
    "p1=[]\n",
    "p2=[]\n",
    "for i in range(train.shape[1]-1):\n",
    "    counter1 = Counter(train[:,i])\n",
    "    a1=np.unique(test[:,i])\n",
    "    ptem1=[]\n",
    "    ptem2=[]\n",
    "    for j in range(len(a1)):\n",
    "        \n",
    "        ptem11=1\n",
    "        ptem22=1\n",
    "        for k in range(len(train)):\n",
    "            if train[k,i]==a1[j]:\n",
    "                if train[k,train.shape[1]-1]=='p':\n",
    "#                     print(\"hello\")\n",
    "                    ptem11+=1\n",
    "                else:\n",
    "                    ptem22+=1\n",
    "            else:\n",
    "                continue\n",
    "#         print(ptem11)\n",
    "#         print(ptem22)\n",
    "        ptem1.append(ptem11/(counter['p']+len(a1)))\n",
    "        ptem2.append(ptem22/(counter['e']+len(a1)))\n",
    "#     print(np.array(ptem1).reshape(1,len(ptem1)).shape)\n",
    "    df1 = pd.DataFrame(np.array(ptem1).reshape(1,len(ptem1)), columns=list(a1))\n",
    "    df2 = pd.DataFrame(np.array(ptem2).reshape(1,len(ptem2)), columns=list(a1))\n",
    "    p1.append(df1)\n",
    "    p2.append(df2)\n",
    "\n",
    "\n",
    "#将所有标记相同的数据集取出分为若干数据集\n",
    "\n",
    "#现以标记为p的数据集Dp为例子，依次对Dp的每个属性值进行遍历，以属性cap-shape为例子介绍，Dp中cap-shape的非重复值集合\n",
    "#为['b' 'c' 'f' 'k' 's' 'x' 'y']，计算数据集中D0中属性值分别为0和1的条件概率P（cap-shape='b'|label='p'）,...,P（cap-shape='y'|label='p'），\n",
    "#计算条件概率时需要注意引入拉普拉斯平滑\n",
    "#上述对cap-shape属性操作完成后，按照同样的步骤对Dp中的剩余12个属性进行同样的操作\n",
    "\n",
    "\n",
    "\n",
    "#得到数据集Dp中条件概率集合后，以同样的操作对剩余数据集进行操作\n"
   ]
  },
  {
   "cell_type": "markdown",
   "id": "e9555a74",
   "metadata": {},
   "source": [
    "<span style=\"color:purple\">4) 对测试集中的每个样本a，将先验概率和条件概率替换为使用拉普拉斯平滑后的先验概率和条件概率，重新使用上个步骤所编写的函数分别计算所有可能的标记对应的后验概率，后验概率更大的对应标记即为预测标记，最后与测试集本身标记进行比较计算出准确率</span>"
   ]
  },
  {
   "cell_type": "code",
   "execution_count": 12,
   "id": "f2871153",
   "metadata": {},
   "outputs": [],
   "source": [
    "def new_pro(a,index):\n",
    "    total=1\n",
    "#     print(len(p1))\n",
    "#     print(len(a))\n",
    "    if index=='p':\n",
    "        for i in range(len(a)):\n",
    "            \n",
    "#             if(a[i] in p1[i]):\n",
    "            total*=float(p1[i][a[i]])\n",
    "#             else:\n",
    "#                 total=0\n",
    "#                 break\n",
    "        total*=py1\n",
    "    if index=='e':\n",
    "        for i in range(len(a)):\n",
    "#             print(a[i])\n",
    "#             if(a[i] in p1[i]):\n",
    "            total*=float(p2[i][a[i]])\n",
    "#             else:\n",
    "#                 total=0\n",
    "#                 break\n",
    "        total*=py2\n",
    "    return total"
   ]
  },
  {
   "cell_type": "code",
   "execution_count": 13,
   "id": "99b0941e",
   "metadata": {},
   "outputs": [
    {
     "data": {
      "text/plain": [
       "0.58"
      ]
     },
     "execution_count": 13,
     "metadata": {},
     "output_type": "execute_result"
    }
   ],
   "source": [
    "yuce=[]\n",
    "number=0\n",
    "for i in range(len(test)):\n",
    "    if new_pro(test[i,0:test.shape[1]-1],'p')>new_pro(test[i,0:test.shape[1]-1],'e'):\n",
    "        yuce.append('p')\n",
    "        if test[i,test.shape[1]-1]=='p':\n",
    "            number+=1\n",
    "    else:\n",
    "        yuce.append('e')\n",
    "        if test[i,test.shape[1]-1]=='e':\n",
    "            number+=1\n",
    "# print(yuce)\n",
    "# print(train[:,13]==yuce)\n",
    "number/len(test)"
   ]
  },
  {
   "cell_type": "markdown",
   "id": "0f6f62e5",
   "metadata": {},
   "source": [
    "**<font color = blue size=4>第二部分:作业提交</font>**"
   ]
  },
  {
   "cell_type": "markdown",
   "id": "e5e1b059",
   "metadata": {},
   "source": [
    "一、实验课下课前提交完成代码，如果下课前未完成，请将已经完成的部分进行提交，未完成的部分于之后的实验报告中进行补充  \n",
    "要求:  \n",
    "1)文件格式为：学号-姓名.ipynb  \n",
    "2)【不要】提交文件夹、压缩包、数据集等无关文件，只需提交单个ipynb文件即可，如果交错请到讲台前联系助教，删掉之前的错误版本后再进行提交"
   ]
  },
  {
   "cell_type": "markdown",
   "id": "8a115318",
   "metadata": {},
   "source": [
    "二、实验报告下周五实验课(5月6号前)上课前提交报告  \n",
    "要求：  \n",
    "1)文件格式为：学号-姓名.pdf  \n",
    "2)【不要】提交文件夹、压缩包、代码文件、数据集等任何与实验报告无关的文件，只需要提交单个pdf文件即可  \n",
    "3)文件命名时不需要额外添加“实验几”等额外信息，按照格式提交  \n",
    "4)每周的实验报告提交地址会变化，且有时间限制，提交时间为下周的实验课开始时，请注意及时提交。"
   ]
  },
  {
   "cell_type": "markdown",
   "id": "22a2724b",
   "metadata": {},
   "source": [
    "实验七(贝叶斯分布)的实验报告上交地址:https://workspace.jianguoyun.com/inbox/collect/87e296bcb96c40b8a6aaad14c628feec/submit"
   ]
  },
  {
   "cell_type": "markdown",
   "id": "08f1e971",
   "metadata": {},
   "source": [
    "三、课堂课件获取地址:https://www.jianguoyun.com/p/DQlpUFYQp5WhChiS_q0E  \n",
    "实验内容获取地址:https://www.jianguoyun.com/p/DbKbP-AQp5WhChi1sa0E"
   ]
  }
 ],
 "metadata": {
  "kernelspec": {
   "display_name": "Python 3 (ipykernel)",
   "language": "python",
   "name": "python3"
  },
  "language_info": {
   "codemirror_mode": {
    "name": "ipython",
    "version": 3
   },
   "file_extension": ".py",
   "mimetype": "text/x-python",
   "name": "python",
   "nbconvert_exporter": "python",
   "pygments_lexer": "ipython3",
   "version": "3.8.12"
  }
 },
 "nbformat": 4,
 "nbformat_minor": 5
}
